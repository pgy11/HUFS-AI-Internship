{
  "nbformat": 4,
  "nbformat_minor": 0,
  "metadata": {
    "colab": {
      "name": "RNN.ipynb",
      "provenance": [],
      "collapsed_sections": [],
      "authorship_tag": "ABX9TyOoNdVwO55Tmcp1C/rU43St"
    },
    "kernelspec": {
      "name": "python3",
      "display_name": "Python 3"
    },
    "accelerator": "GPU"
  },
  "cells": [
    {
      "cell_type": "code",
      "metadata": {
        "id": "MdqHt6jHAlJP"
      },
      "source": [
        "import urllib\n",
        "from keras.layers import Dense, Activation\n",
        "from keras.layers.recurrent import SimpleRNN\n",
        "from keras.models import Sequential\n",
        "from keras.utils.vis_utils import plot_model\n",
        "import numpy as np\n",
        "from keras import backend as K\n",
        "from keras.preprocessing.text import * "
      ],
      "execution_count": null,
      "outputs": []
    },
    {
      "cell_type": "code",
      "metadata": {
        "id": "Wlq1sevBmapP"
      },
      "source": [
        ""
      ],
      "execution_count": null,
      "outputs": []
    },
    {
      "cell_type": "code",
      "metadata": {
        "id": "RFl6fvVGBKyo"
      },
      "source": [
        "lines = []\n",
        "\n",
        "req = urllib.request.urlopen('http://www.gutenberg.org/files/11/11-0.txt')\n",
        "for line in req:\n",
        "  line = line.strip().lower()\n",
        "  decoded = line.decode('ascii', 'ignore')\n",
        "  if len(decoded) == 0 : continue\n",
        "\n",
        "  lines.append(decoded)\n",
        "\n",
        "text = \" \".join(lines)"
      ],
      "execution_count": null,
      "outputs": []
    },
    {
      "cell_type": "code",
      "metadata": {
        "id": "QUuRCdX4DLhE"
      },
      "source": [
        "chars = set([c for c in text])\n",
        "chars_len = len(chars)\n",
        "char2index = dict((c, i) for i, c in enumerate(chars))\n",
        "index2char = dict((i, c) for i,c in enumerate(chars))\n",
        "\n",
        "SEQLEN = 10\n",
        "\n",
        "input_chars = []\n",
        "label_chars = []\n",
        "for i in range(0, len(text) - SEQLEN):\n",
        "  input_chars.append(text[i:i+SEQLEN])\n",
        "  label_chars.append(text[i+SEQLEN])"
      ],
      "execution_count": null,
      "outputs": []
    },
    {
      "cell_type": "code",
      "metadata": {
        "id": "jxvwDfpaKJAE"
      },
      "source": [
        "X = np.zeros((len(input_chars), SEQLEN, chars_len), dtype = np.bool)\n",
        "y = np.zeros((len(input_chars), chars_len), dtype = np.bool)\n",
        "\n",
        "for i, input_char in enumerate(input_chars):\n",
        "  for j, ch in enumerate(input_char):\n",
        "    X[i, j, char2index[ch]] = 1\n",
        "  y[i, char2index[label_chars[i]]] = 1"
      ],
      "execution_count": null,
      "outputs": []
    },
    {
      "cell_type": "code",
      "metadata": {
        "id": "qIugD_9cMcVd",
        "colab": {
          "base_uri": "https://localhost:8080/",
          "height": 354
        },
        "outputId": "8051c014-e763-430f-858d-b9b0c0f0093a"
      },
      "source": [
        "HIDDEN_SIZE = 128\n",
        "BATCH_SIZE = 128\n",
        "ITERATION = 25\n",
        "EPOCHS_PER_ITERATION = 1\n",
        "PREDS_PER_EPOCH = 100\n",
        "\n",
        "model = Sequential()\n",
        "model.add(SimpleRNN(HIDDEN_SIZE, return_sequences = False, \n",
        "                    input_shape = (SEQLEN, chars_len), unroll = True))\n",
        "model.add(Dense(chars_len, activation = 'softmax'))\n",
        "model.summary()"
      ],
      "execution_count": null,
      "outputs": [
        {
          "output_type": "stream",
          "text": [
            "WARNING:tensorflow:From /usr/local/lib/python3.6/dist-packages/keras/backend/tensorflow_backend.py:66: The name tf.get_default_graph is deprecated. Please use tf.compat.v1.get_default_graph instead.\n",
            "\n",
            "WARNING:tensorflow:From /usr/local/lib/python3.6/dist-packages/keras/backend/tensorflow_backend.py:541: The name tf.placeholder is deprecated. Please use tf.compat.v1.placeholder instead.\n",
            "\n",
            "WARNING:tensorflow:From /usr/local/lib/python3.6/dist-packages/keras/backend/tensorflow_backend.py:4432: The name tf.random_uniform is deprecated. Please use tf.random.uniform instead.\n",
            "\n",
            "Model: \"sequential_1\"\n",
            "_________________________________________________________________\n",
            "Layer (type)                 Output Shape              Param #   \n",
            "=================================================================\n",
            "simple_rnn_1 (SimpleRNN)     (None, 128)               23808     \n",
            "_________________________________________________________________\n",
            "dense_1 (Dense)              (None, 57)                7353      \n",
            "=================================================================\n",
            "Total params: 31,161\n",
            "Trainable params: 31,161\n",
            "Non-trainable params: 0\n",
            "_________________________________________________________________\n"
          ],
          "name": "stdout"
        }
      ]
    },
    {
      "cell_type": "code",
      "metadata": {
        "id": "-Jzvx407NPcL",
        "colab": {
          "base_uri": "https://localhost:8080/",
          "height": 87
        },
        "outputId": "7a92662c-fec2-443e-a4a3-33e2291aee1f"
      },
      "source": [
        "model.compile(loss = 'categorical_crossentropy', optimizer = 'rmsprop')"
      ],
      "execution_count": null,
      "outputs": [
        {
          "output_type": "stream",
          "text": [
            "WARNING:tensorflow:From /usr/local/lib/python3.6/dist-packages/keras/optimizers.py:793: The name tf.train.Optimizer is deprecated. Please use tf.compat.v1.train.Optimizer instead.\n",
            "\n",
            "WARNING:tensorflow:From /usr/local/lib/python3.6/dist-packages/keras/backend/tensorflow_backend.py:3576: The name tf.log is deprecated. Please use tf.math.log instead.\n",
            "\n"
          ],
          "name": "stdout"
        }
      ]
    },
    {
      "cell_type": "code",
      "metadata": {
        "id": "GUKcRBOpNaRQ",
        "colab": {
          "base_uri": "https://localhost:8080/",
          "height": 1000
        },
        "outputId": "a0efbaca-fe81-46a3-b624-14125e8a5cf3"
      },
      "source": [
        "for iteration in range(ITERATION):\n",
        "  print(\"=\" * 50)\n",
        "  print('Iteration #: %d' % (iteration))\n",
        "\n",
        "  model.fit(X,y, batch_size = BATCH_SIZE, epochs = EPOCHS_PER_ITERATION)\n",
        "\n",
        "  test_idx = np.random.randint(len(input_chars))\n",
        "  test_chars = input_chars[test_idx]\n",
        "  print('Generating from seed : %s' % (test_chars))\n",
        "  print(test_chars, end = \"\")\n",
        "\n",
        "  for i in range(PREDS_PER_EPOCH):\n",
        "    test_data = np.zeros((1, SEQLEN, chars_len))\n",
        "    for i, ch in enumerate(test_chars):\n",
        "      test_data[0, i, char2index[ch]] = 1\n",
        "      pred = model.predict(test_data, verbose = 0)[0]\n",
        "      ypred = index2char[np.argmax(pred)]\n",
        "      print(ypred, end = \"\")\n",
        "      test_chars = test_chars[1:] + ypred\n",
        "  print()"
      ],
      "execution_count": null,
      "outputs": [
        {
          "output_type": "stream",
          "text": [
            "==================================================\n",
            "Iteration #: 0\n",
            "WARNING:tensorflow:From /usr/local/lib/python3.6/dist-packages/tensorflow_core/python/ops/math_grad.py:1424: where (from tensorflow.python.ops.array_ops) is deprecated and will be removed in a future version.\n",
            "Instructions for updating:\n",
            "Use tf.where in 2.0, which has the same broadcast rule as np.where\n",
            "WARNING:tensorflow:From /usr/local/lib/python3.6/dist-packages/keras/backend/tensorflow_backend.py:1033: The name tf.assign_add is deprecated. Please use tf.compat.v1.assign_add instead.\n",
            "\n",
            "WARNING:tensorflow:From /usr/local/lib/python3.6/dist-packages/keras/backend/tensorflow_backend.py:1020: The name tf.assign is deprecated. Please use tf.compat.v1.assign instead.\n",
            "\n",
            "WARNING:tensorflow:From /usr/local/lib/python3.6/dist-packages/keras/backend/tensorflow_backend.py:3005: The name tf.Session is deprecated. Please use tf.compat.v1.Session instead.\n",
            "\n",
            "Epoch 1/1\n",
            "WARNING:tensorflow:From /usr/local/lib/python3.6/dist-packages/keras/backend/tensorflow_backend.py:190: The name tf.get_default_session is deprecated. Please use tf.compat.v1.get_default_session instead.\n",
            "\n",
            "WARNING:tensorflow:From /usr/local/lib/python3.6/dist-packages/keras/backend/tensorflow_backend.py:197: The name tf.ConfigProto is deprecated. Please use tf.compat.v1.ConfigProto instead.\n",
            "\n",
            "WARNING:tensorflow:From /usr/local/lib/python3.6/dist-packages/keras/backend/tensorflow_backend.py:207: The name tf.global_variables is deprecated. Please use tf.compat.v1.global_variables instead.\n",
            "\n",
            "WARNING:tensorflow:From /usr/local/lib/python3.6/dist-packages/keras/backend/tensorflow_backend.py:216: The name tf.is_variable_initialized is deprecated. Please use tf.compat.v1.is_variable_initialized instead.\n",
            "\n",
            "WARNING:tensorflow:From /usr/local/lib/python3.6/dist-packages/keras/backend/tensorflow_backend.py:223: The name tf.variables_initializer is deprecated. Please use tf.compat.v1.variables_initializer instead.\n",
            "\n",
            "159602/159602 [==============================] - 15s 94us/step - loss: 2.3429\n",
            "Generating from seed : ribution o\n",
            "ribution o        of                                                                                                                                                                                                                                                                                                                                                                                                                                                                                                                                                                                                                                                                                                                                                                                                                                                                                                                                                                                                                              \n",
            "==================================================\n",
            "Iteration #: 1\n",
            "Epoch 1/1\n",
            "159602/159602 [==============================] - 6s 36us/step - loss: 2.0499\n",
            "Generating from seed : the right \n",
            "the right     s    i                                                                                                                                                                                                                                                                                                                                                                                                                                                                                                                                                                                                                                                                                                                                                                                                                                                                                                                                                                                                                              \n",
            "==================================================\n",
            "Iteration #: 2\n",
            "Epoch 1/1\n",
            "159602/159602 [==============================] - 5s 34us/step - loss: 1.9453\n",
            "Generating from seed : she saw in\n",
            "she saw in   is  i          eh                                                                                                                                                                                                                                                                                                                                                                                                                                                                                                                                                                                                                                                                                                                                                                                                                                                                                                                                                                                                                    \n",
            "==================================================\n",
            "Iteration #: 3\n",
            "Epoch 1/1\n",
            "159602/159602 [==============================] - 6s 35us/step - loss: 1.8674\n",
            "Generating from seed : that all t\n",
            "that all t    s  seh                                                                                                                                                                                                                                                                                                                                                                                                                                                                                                                                                                                                                                                                                                                                                                                                                                                                                                                                                                                                                              \n",
            "==================================================\n",
            "Iteration #: 4\n",
            "Epoch 1/1\n",
            "159602/159602 [==============================] - 5s 34us/step - loss: 1.8039\n",
            "Generating from seed : ing every \n",
            "ing every    sss sus      eedt                                                                                                                                                                                                                                                                                                                                                                                                                                                                                                                                                                                                                                                                                                                                                                                                                                                                                                                                                                                                                    \n",
            "==================================================\n",
            "Iteration #: 5\n",
            "Epoch 1/1\n",
            "159602/159602 [==============================] - 6s 35us/step - loss: 1.7525\n",
            "Generating from seed : ch way i o\n",
            "ch way i o      l on                                                                                                                                                                                                                                                                                                                                                                                                                                                                                                                                                                                                                                                                                                                                                                                                                                                                                                                                                                                                                              \n",
            "==================================================\n",
            "Iteration #: 6\n",
            "Epoch 1/1\n",
            "159602/159602 [==============================] - 5s 34us/step - loss: 1.7088\n",
            "Generating from seed : eres an at\n",
            "eres an at    e  el    iie   c       ooo   i e        sscs t   iiiunuh         e   i e        sscs t   iiiunuh         e   i e        sscs t   iiiunuh         e   i e        sscs t   iiiunuh         e   i e        sscs t   iiiunuh         e   i e        sscs t   iiiunuh         e   i e        sscs t   iiiunuh         e   i e        sscs t   iiiunuh         e   i e        sscs t   iiiunuh         e   i e        sscs t   iiiunuh         e   i e        sscs t   iiiunuh         e   i e        sscs t   iiiunuh         e   i e        sscs t   iiiunuh         e   i e        sscs t   iiiunuh         e   i e        sscs t   iiiunuh         e   i e        sscs t   iiiunuh         e   i e        sscs t   iiiunuh         e   i e        sscs t   iiiunuh         e   i e        sscs t   iiiunuh         e   i e        sscs t   iiiunuh         e   i e        sscs t   iiiunuh         e   i e        sscs t   iiiunuh         e   i e        sscs t   iiiunuh         e   i e        sscs t   iiiunuh         e   i e    \n",
            "==================================================\n",
            "Iteration #: 7\n",
            "Epoch 1/1\n",
            "159602/159602 [==============================] - 5s 33us/step - loss: 1.6716\n",
            "Generating from seed : ch hare. v\n",
            "ch hare. v       loe   i   s d   . _   o     _       i __  *   . ___*      _____   i ____    . _____     _____   i ____    . _____     _____   i ____    . _____     _____   i ____    . _____     _____   i ____    . _____     _____   i ____    . _____     _____   i ____    . _____     _____   i ____    . _____     _____   i ____    . _____     _____   i ____    . _____     _____   i ____    . _____     _____   i ____    . _____     _____   i ____    . _____     _____   i ____    . _____     _____   i ____    . _____     _____   i ____    . _____     _____   i ____    . _____     _____   i ____    . _____     _____   i ____    . _____     _____   i ____    . _____     _____   i ____    . _____     _____   i ____    . _____     _____   i ____    . _____     _____   i ____    . _____     _____   i ____    . _____     _____   i ____    . _____     _____   i ____    . _____     _____   i ____    . _____     _____   i ____    . _____     _____   i ____    . _____     _____   i ____    . _____     _____\n",
            "==================================================\n",
            "Iteration #: 8\n",
            "Epoch 1/1\n",
            "159602/159602 [==============================] - 6s 37us/step - loss: 1.6398\n",
            "Generating from seed : eagerly: t\n",
            "eagerly: t      sluh       ete                                                                                                                                                                                                                                                                                                                                                                                                                                                                                                                                                                                                                                                                                                                                                                                                                                                                                                                                                                                                                    \n",
            "==================================================\n",
            "Iteration #: 9\n",
            "Epoch 1/1\n",
            "159602/159602 [==============================] - 5s 34us/step - loss: 1.6119\n",
            "Generating from seed :  them, and\n",
            " them, and      e    s i_eeoua    __d dd s i_____o    ______ s i______    _____  s i______    _____  s i______    _____  s i______    _____  s i______    _____  s i______    _____  s i______    _____  s i______    _____  s i______    _____  s i______    _____  s i______    _____  s i______    _____  s i______    _____  s i______    _____  s i______    _____  s i______    _____  s i______    _____  s i______    _____  s i______    _____  s i______    _____  s i______    _____  s i______    _____  s i______    _____  s i______    _____  s i______    _____  s i______    _____  s i______    _____  s i______    _____  s i______    _____  s i______    _____  s i______    _____  s i______    _____  s i______    _____  s i______    _____  s i______    _____  s i______    _____  s i______    _____  s i______    _____  s i______    _____  s i______    _____  s i______    _____  s i______    _____  s i______    _____  s i______    _____  s i______    _____  s i______    _____  s i______    _____  s i______\n",
            "==================================================\n",
            "Iteration #: 10\n",
            "Epoch 1/1\n",
            "159602/159602 [==============================] - 6s 35us/step - loss: 1.5878\n",
            "Generating from seed :  in a grea\n",
            " in a grea. eniiintt  re ,    .   encs t  nnnnanah. .,nin ni   n   att. n.neeeee    ttdt d. nini koo   ...tttn. nnnn  ee   .ilettt. nn    r    .aeesaa. nn     n   .aees o. nn    on   .aees  . nn    oo   .aees n. nn    oo   .aees n. nn    oo   .aees n. nn    oo   .aees n. nn    oo   .aees n. nn    oo   .aees n. nn    oo   .aees n. nn    oo   .aees n. nn    oo   .aees n. nn    oo   .aees n. nn    oo   .aees n. nn    oo   .aees n. nn    oo   .aees n. nn    oo   .aees n. nn    oo   .aees n. nn    oo   .aees n. nn    oo   .aees n. nn    oo   .aees n. nn    oo   .aees n. nn    oo   .aees n. nn    oo   .aees n. nn    oo   .aees n. nn    oo   .aees n. nn    oo   .aees n. nn    oo   .aees n. nn    oo   .aees n. nn    oo   .aees n. nn    oo   .aees n. nn    oo   .aees n. nn    oo   .aees n. nn    oo   .aees n. nn    oo   .aees n. nn    oo   .aees n. nn    oo   .aees n. nn    oo   .aees n. nn    oo   .aees n. nn    oo   .aees n. nn    oo   .aees n. nn    oo   .aees n. nn    oo   .aees n. nn    oo   .aees n\n",
            "==================================================\n",
            "Iteration #: 11\n",
            "Epoch 1/1\n",
            "159602/159602 [==============================] - 6s 37us/step - loss: 1.5665\n",
            "Generating from seed : ordinary w\n",
            "ordinary wiii iiiioieiie     sieieeees  eeiioo  ooii i  uallei.resel  ieeyie saaeei yule dii  ei  eoei._  tatniee___s  eeei_____erii _______ei.______ iee_______eei______ ii _______ei.______ iee_______eei______ ii _______ei.______ iee_______eei______ ii _______ei.______ iee_______eei______ ii _______ei.______ iee_______eei______ ii _______ei.______ iee_______eei______ ii _______ei.______ iee_______eei______ ii _______ei.______ iee_______eei______ ii _______ei.______ iee_______eei______ ii _______ei.______ iee_______eei______ ii _______ei.______ iee_______eei______ ii _______ei.______ iee_______eei______ ii _______ei.______ iee_______eei______ ii _______ei.______ iee_______eei______ ii _______ei.______ iee_______eei______ ii _______ei.______ iee_______eei______ ii _______ei.______ iee_______eei______ ii _______ei.______ iee_______eei______ ii _______ei.______ iee_______eei______ ii _______ei.______ iee_______eei______ ii _______ei.______ iee_______eei______ ii _______ei.______ iee_______eei______ \n",
            "==================================================\n",
            "Iteration #: 12\n",
            "Epoch 1/1\n",
            "159602/159602 [==============================] - 5s 34us/step - loss: 1.5479\n",
            "Generating from seed : little fis\n",
            "little fis......ltl    .     n    eee  o   nn  a n    nieeoo   n_e  !n    __ctcc   n___aaa    _____n   n______    _____    n______    _____    n______    _____    n______    _____    n______    _____    n______    _____    n______    _____    n______    _____    n______    _____    n______    _____    n______    _____    n______    _____    n______    _____    n______    _____    n______    _____    n______    _____    n______    _____    n______    _____    n______    _____    n______    _____    n______    _____    n______    _____    n______    _____    n______    _____    n______    _____    n______    _____    n______    _____    n______    _____    n______    _____    n______    _____    n______    _____    n______    _____    n______    _____    n______    _____    n______    _____    n______    _____    n______    _____    n______    _____    n______    _____    n______    _____    n______    _____    n______    _____    n______    _____    n______    _____    n______    _____    n______\n",
            "==================================================\n",
            "Iteration #: 13\n",
            "Epoch 1/1\n",
            "159602/159602 [==============================] - 6s 35us/step - loss: 1.5306\n",
            "Generating from seed : ep-bells, \n",
            "ep-bells, i. rri___a.y   sssssii    sfae...  eeikdi  n    , .   se taci    uaykk.  e      i        *.  e      i        *.  e      i        *.  e      i        *.  e      i        *.  e      i        *.  e      i        *.  e      i        *.  e      i        *.  e      i        *.  e      i        *.  e      i        *.  e      i        *.  e      i        *.  e      i        *.  e      i        *.  e      i        *.  e      i        *.  e      i        *.  e      i        *.  e      i        *.  e      i        *.  e      i        *.  e      i        *.  e      i        *.  e      i        *.  e      i        *.  e      i        *.  e      i        *.  e      i        *.  e      i        *.  e      i        *.  e      i        *.  e      i        *.  e      i        *.  e      i        *.  e      i        *.  e      i        *.  e      i        *.  e      i        *.  e      i        *.  e      i        *.  e      i        *.  e      i        *.  e      i        *.  e      i        *.  e      \n",
            "==================================================\n",
            "Iteration #: 14\n",
            "Epoch 1/1\n",
            "159602/159602 [==============================] - 5s 34us/step - loss: 1.5166\n",
            "Generating from seed : n to repea\n",
            "n to repea. ..lenattre   nn,oe..._ l_lssr  __e___e. n_______re.______ ..._______r  ______ . n_______re.______ ..._______r  ______ . n_______re.______ ..._______r  ______ . n_______re.______ ..._______r  ______ . n_______re.______ ..._______r  ______ . n_______re.______ ..._______r  ______ . n_______re.______ ..._______r  ______ . n_______re.______ ..._______r  ______ . n_______re.______ ..._______r  ______ . n_______re.______ ..._______r  ______ . n_______re.______ ..._______r  ______ . n_______re.______ ..._______r  ______ . n_______re.______ ..._______r  ______ . n_______re.______ ..._______r  ______ . n_______re.______ ..._______r  ______ . n_______re.______ ..._______r  ______ . n_______re.______ ..._______r  ______ . n_______re.______ ..._______r  ______ . n_______re.______ ..._______r  ______ . n_______re.______ ..._______r  ______ . n_______re.______ ..._______r  ______ . n_______re.______ ..._______r  ______ . n_______re.______ ..._______r  ______ . n_______re.______ ..._______r  ______ \n",
            "==================================================\n",
            "Iteration #: 15\n",
            "Epoch 1/1\n",
            "159602/159602 [==============================] - 6s 36us/step - loss: 1.5026\n",
            "Generating from seed : he most cu\n",
            "he most cu   ,  ,tur    nelile   !n, s       _aeen   !n_         __loo   !n____k     ____    !n_____     ____    !n_____     ____    !n_____     ____    !n_____     ____    !n_____     ____    !n_____     ____    !n_____     ____    !n_____     ____    !n_____     ____    !n_____     ____    !n_____     ____    !n_____     ____    !n_____     ____    !n_____     ____    !n_____     ____    !n_____     ____    !n_____     ____    !n_____     ____    !n_____     ____    !n_____     ____    !n_____     ____    !n_____     ____    !n_____     ____    !n_____     ____    !n_____     ____    !n_____     ____    !n_____     ____    !n_____     ____    !n_____     ____    !n_____     ____    !n_____     ____    !n_____     ____    !n_____     ____    !n_____     ____    !n_____     ____    !n_____     ____    !n_____     ____    !n_____     ____    !n_____     ____    !n_____     ____    !n_____     ____    !n_____     ____    !n_____     ____    !n_____     ____    !n_____     ____    !n_____     ____ \n",
            "==================================================\n",
            "Iteration #: 16\n",
            "Epoch 1/1\n",
            "159602/159602 [==============================] - 6s 35us/step - loss: 1.4908\n",
            "Generating from seed : . so she w\n",
            ". so she w    llllaa   !ii_e_t     t_      !____uu    ______   !_____     ______   !_____     ______   !_____     ______   !_____     ______   !_____     ______   !_____     ______   !_____     ______   !_____     ______   !_____     ______   !_____     ______   !_____     ______   !_____     ______   !_____     ______   !_____     ______   !_____     ______   !_____     ______   !_____     ______   !_____     ______   !_____     ______   !_____     ______   !_____     ______   !_____     ______   !_____     ______   !_____     ______   !_____     ______   !_____     ______   !_____     ______   !_____     ______   !_____     ______   !_____     ______   !_____     ______   !_____     ______   !_____     ______   !_____     ______   !_____     ______   !_____     ______   !_____     ______   !_____     ______   !_____     ______   !_____     ______   !_____     ______   !_____     ______   !_____     ______   !_____     ______   !_____     ______   !_____     ______   !_____     ______   !_____ \n",
            "==================================================\n",
            "Iteration #: 17\n",
            "Epoch 1/1\n",
            "159602/159602 [==============================] - 5s 34us/step - loss: 1.4789\n",
            "Generating from seed : , i move t\n",
            ", i move tri __   eh .i___l_sei .______d..._______   ______ i ._______...______    _______i .______ ..._______   ______ i ._______...______    _______i .______ ..._______   ______ i ._______...______    _______i .______ ..._______   ______ i ._______...______    _______i .______ ..._______   ______ i ._______...______    _______i .______ ..._______   ______ i ._______...______    _______i .______ ..._______   ______ i ._______...______    _______i .______ ..._______   ______ i ._______...______    _______i .______ ..._______   ______ i ._______...______    _______i .______ ..._______   ______ i ._______...______    _______i .______ ..._______   ______ i ._______...______    _______i .______ ..._______   ______ i ._______...______    _______i .______ ..._______   ______ i ._______...______    _______i .______ ..._______   ______ i ._______...______    _______i .______ ..._______   ______ i ._______...______    _______i .______ ..._______   ______ i ._______...______    _______i .______ ..._______\n",
            "==================================================\n",
            "Iteration #: 18\n",
            "Epoch 1/1\n",
            "159602/159602 [==============================] - 5s 32us/step - loss: 1.4674\n",
            "Generating from seed : way i ough\n",
            "way i ough.. _li  ,t e __ ttss...__ieeee e __   dd...__is__  e __  __t...__is__h e __  __e...__is___ e __  __ ...__is___ e __  __ ...__is___ e __  __ ...__is___ e __  __ ...__is___ e __  __ ...__is___ e __  __ ...__is___ e __  __ ...__is___ e __  __ ...__is___ e __  __ ...__is___ e __  __ ...__is___ e __  __ ...__is___ e __  __ ...__is___ e __  __ ...__is___ e __  __ ...__is___ e __  __ ...__is___ e __  __ ...__is___ e __  __ ...__is___ e __  __ ...__is___ e __  __ ...__is___ e __  __ ...__is___ e __  __ ...__is___ e __  __ ...__is___ e __  __ ...__is___ e __  __ ...__is___ e __  __ ...__is___ e __  __ ...__is___ e __  __ ...__is___ e __  __ ...__is___ e __  __ ...__is___ e __  __ ...__is___ e __  __ ...__is___ e __  __ ...__is___ e __  __ ...__is___ e __  __ ...__is___ e __  __ ...__is___ e __  __ ...__is___ e __  __ ...__is___ e __  __ ...__is___ e __  __ ...__is___ e __  __ ...__is___ e __  __ ...__is___ e __  __ ...__is___ e __  __ ...__is___ e __  __ ...__is___ e __  __ ...__is___ e __  __ \n",
            "==================================================\n",
            "Iteration #: 19\n",
            "Epoch 1/1\n",
            "159602/159602 [==============================] - 6s 35us/step - loss: 1.4583\n",
            "Generating from seed : mitted by \n",
            "mitted by  .  r.latt. .eeiesseee       d i__ll    .l____cl wei______ee .________. _______ eel_______ i-______ .ly_______ei_______  .________. _______ eel_______ i-______ .ly_______ei_______  .________. _______ eel_______ i-______ .ly_______ei_______  .________. _______ eel_______ i-______ .ly_______ei_______  .________. _______ eel_______ i-______ .ly_______ei_______  .________. _______ eel_______ i-______ .ly_______ei_______  .________. _______ eel_______ i-______ .ly_______ei_______  .________. _______ eel_______ i-______ .ly_______ei_______  .________. _______ eel_______ i-______ .ly_______ei_______  .________. _______ eel_______ i-______ .ly_______ei_______  .________. _______ eel_______ i-______ .ly_______ei_______  .________. _______ eel_______ i-______ .ly_______ei_______  .________. _______ eel_______ i-______ .ly_______ei_______  .________. _______ eel_______ i-______ .ly_______ei_______  .________. _______ eel_______ i-______ .ly_______ei_______  .________. _______ eel_______ i-______ \n",
            "==================================================\n",
            "Iteration #: 20\n",
            "Epoch 1/1\n",
            "159602/159602 [==============================] - 6s 35us/step - loss: 1.4491\n",
            "Generating from seed : ocket, and\n",
            "ocket, and.--...l    ei, dnauu ..._nn_dt    __llle  .!______    _____   .!______    _____   .!______    _____   .!______    _____   .!______    _____   .!______    _____   .!______    _____   .!______    _____   .!______    _____   .!______    _____   .!______    _____   .!______    _____   .!______    _____   .!______    _____   .!______    _____   .!______    _____   .!______    _____   .!______    _____   .!______    _____   .!______    _____   .!______    _____   .!______    _____   .!______    _____   .!______    _____   .!______    _____   .!______    _____   .!______    _____   .!______    _____   .!______    _____   .!______    _____   .!______    _____   .!______    _____   .!______    _____   .!______    _____   .!______    _____   .!______    _____   .!______    _____   .!______    _____   .!______    _____   .!______    _____   .!______    _____   .!______    _____   .!______    _____   .!______    _____   .!______    _____   .!______    _____   .!______    _____   .!______    _____ \n",
            "==================================================\n",
            "Iteration #: 21\n",
            "Epoch 1/1\n",
            "159602/159602 [==============================] - 6s 37us/step - loss: 1.4412\n",
            "Generating from seed : e_ taught \n",
            "e_ taught .y_tyy   t  _l._ltdon _____nen._________ ________ ny________.-_______   ________n _______ ._________ ________ ny________.-_______   ________n _______ ._________ ________ ny________.-_______   ________n _______ ._________ ________ ny________.-_______   ________n _______ ._________ ________ ny________.-_______   ________n _______ ._________ ________ ny________.-_______   ________n _______ ._________ ________ ny________.-_______   ________n _______ ._________ ________ ny________.-_______   ________n _______ ._________ ________ ny________.-_______   ________n _______ ._________ ________ ny________.-_______   ________n _______ ._________ ________ ny________.-_______   ________n _______ ._________ ________ ny________.-_______   ________n _______ ._________ ________ ny________.-_______   ________n _______ ._________ ________ ny________.-_______   ________n _______ ._________ ________ ny________.-_______   ________n _______ ._________ ________ ny________.-_______   ________n _______ ._________\n",
            "==================================================\n",
            "Iteration #: 22\n",
            "Epoch 1/1\n",
            "159602/159602 [==============================] - 6s 36us/step - loss: 1.4330\n",
            "Generating from seed :  or conver\n",
            " or conver...eisii  , . lll ohy  eni_y  .ddeee_iet,,-, .__ ey: ycc__av..seii___e, y. yu   y ddeeeaea.d,, d   d,,._l_c   y: ____aaa..s______n, y_______y dd_____ .d,,______,,.______ y: _______..s______ , y_______y dd_____ .d,,______,,.______ y: _______..s______ , y_______y dd_____ .d,,______,,.______ y: _______..s______ , y_______y dd_____ .d,,______,,.______ y: _______..s______ , y_______y dd_____ .d,,______,,.______ y: _______..s______ , y_______y dd_____ .d,,______,,.______ y: _______..s______ , y_______y dd_____ .d,,______,,.______ y: _______..s______ , y_______y dd_____ .d,,______,,.______ y: _______..s______ , y_______y dd_____ .d,,______,,.______ y: _______..s______ , y_______y dd_____ .d,,______,,.______ y: _______..s______ , y_______y dd_____ .d,,______,,.______ y: _______..s______ , y_______y dd_____ .d,,______,,.______ y: _______..s______ , y_______y dd_____ .d,,______,,.______ y: _______..s______ , y_______y dd_____ .d,,______,,.______ y: _______..s______ , y_______y dd_____ .d,,______\n",
            "==================================================\n",
            "Iteration #: 23\n",
            "Epoch 1/1\n",
            "159602/159602 [==============================] - 5s 34us/step - loss: 1.4256\n",
            "Generating from seed :  even if y\n",
            " even if y i_ iio oo e__u  i   i____k nh e_____tte i______er e________ i_______  e________ i_______  e________ i_______  e________ i_______  e________ i_______  e________ i_______  e________ i_______  e________ i_______  e________ i_______  e________ i_______  e________ i_______  e________ i_______  e________ i_______  e________ i_______  e________ i_______  e________ i_______  e________ i_______  e________ i_______  e________ i_______  e________ i_______  e________ i_______  e________ i_______  e________ i_______  e________ i_______  e________ i_______  e________ i_______  e________ i_______  e________ i_______  e________ i_______  e________ i_______  e________ i_______  e________ i_______  e________ i_______  e________ i_______  e________ i_______  e________ i_______  e________ i_______  e________ i_______  e________ i_______  e________ i_______  e________ i_______  e________ i_______  e________ i_______  e________ i_______  e________ i_______  e________ i_______  e________ i_______  e________\n",
            "==================================================\n",
            "Iteration #: 24\n",
            "Epoch 1/1\n",
            "159602/159602 [==============================] - 6s 35us/step - loss: 1.4180\n",
            "Generating from seed : d in the l\n",
            "d in the lieiire doo.e..,,crnn    k iitt.  eeil ee  neeoemmm. ....llle   ,iint d.       oo  nleleutt. .  y   e   lctulrr.   ih, sa  nl iiiii. . lur sn   lhsocee.   nnnrrd  nlliilae. .  u  sd   lcoclle.   ii b s  nl acinu. . llusss   lh .i, .   niii t  nlle eoo. .  nal,d   lca es .   iianon  nl a  tt. . lljtle   lh y   .   niryyy  nllehou . .  ny  s   lca_o h.   iie oe  nl a ald. . lljls    lh yymm.   nir     nllehouw. .  ny  a   lca_o s.   iie oa  nl a all. . lljls    lh yymm.   nir     nllehouw. .  ny  a   lca_o s.   iie oa  nl a all. . lljls    lh yymm.   nir     nllehouw. .  ny  a   lca_o s.   iie oa  nl a all. . lljls    lh yymm.   nir     nllehouw. .  ny  a   lca_o s.   iie oa  nl a all. . lljls    lh yymm.   nir     nllehouw. .  ny  a   lca_o s.   iie oa  nl a all. . lljls    lh yymm.   nir     nllehouw. .  ny  a   lca_o s.   iie oa  nl a all. . lljls    lh yymm.   nir     nllehouw. .  ny  a   lca_o s.   iie oa  nl a all. . lljls    lh yymm.   nir     nllehouw. .  ny  a   lca_o s.   iie oa\n"
          ],
          "name": "stdout"
        }
      ]
    },
    {
      "cell_type": "code",
      "metadata": {
        "id": "fXgPgpwjYtnx",
        "colab": {
          "base_uri": "https://localhost:8080/",
          "height": 272
        },
        "outputId": "de1975f7-41c7-4dbf-e9f5-6d0c4e38ff0c"
      },
      "source": [
        "plot_model(model)"
      ],
      "execution_count": null,
      "outputs": [
        {
          "output_type": "execute_result",
          "data": {
            "image/png": "[encoded data removed]",
            "text/plain": [
              "<IPython.core.display.Image object>"
            ]
          },
          "metadata": {
            "tags": []
          },
          "execution_count": 8
        }
      ]
    },
    {
      "cell_type": "code",
      "metadata": {
        "id": "V28njE9Jb6R4"
      },
      "source": [
        "from keras.datasets import imdb\n",
        "from keras.layers.embeddings import Embedding\n",
        "from keras.layers.recurrent import LSTM\n",
        "from keras.preprocessing import sequence\n",
        "%matplotlib inline\n",
        "import matplotlib.pyplot as plt"
      ],
      "execution_count": null,
      "outputs": []
    },
    {
      "cell_type": "code",
      "metadata": {
        "id": "dAu6J7d7LPwY"
      },
      "source": [
        "def display_history(history):\n",
        "  h = history.history\n",
        "  fig, ax = plt.subplots(1,2, figsize = (8,4))\n",
        "  plt.subplots_adjust(wspace = 0.5)\n",
        "  fig.suptitle('Training result')\n",
        "\n",
        "  ax[0].set_title('Accuracy')\n",
        "  ax[0].set_xlabel('epochs')\n",
        "  ax[0].set_ylabel('accuracy')\n",
        "  ax[0].plot(h['acc'])\n",
        "  ax[0].plot(h['val_acc'])\n",
        "  \n",
        "  ax[1].set_title('Loss')\n",
        "  ax[1].set_xlabel('epochs')\n",
        "  ax[1].set_ylabel('loss')\n",
        "  ax[1].plot(h['loss'])\n",
        "  ax[1].plot(h['val_loss'])\n",
        "  fig.legend(['train','validation'])"
      ],
      "execution_count": null,
      "outputs": []
    },
    {
      "cell_type": "code",
      "metadata": {
        "id": "BP2TLxPdEOaL",
        "colab": {
          "resources": {
            "http://localhost:8080/nbextensions/google.colab/files.js": {
              "data": "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",
              "ok": true,
              "headers": [
                [
                  "content-type",
                  "application/javascript"
                ]
              ],
              "status": 200,
              "status_text": ""
            }
          },
          "base_uri": "https://localhost:8080/",
          "height": 289
        },
        "outputId": "234fa6dd-b04a-47e4-dd3f-d0288228f54e"
      },
      "source": [
        "!pip install kaggle\n",
        "from google.colab import files\n",
        "files.upload()"
      ],
      "execution_count": null,
      "outputs": [
        {
          "output_type": "stream",
          "text": [
            "Requirement already satisfied: kaggle in /usr/local/lib/python3.6/dist-packages (1.5.6)\n",
            "Requirement already satisfied: requests in /usr/local/lib/python3.6/dist-packages (from kaggle) (2.21.0)\n",
            "Requirement already satisfied: six>=1.10 in /usr/local/lib/python3.6/dist-packages (from kaggle) (1.12.0)\n",
            "Requirement already satisfied: urllib3<1.25,>=1.21.1 in /usr/local/lib/python3.6/dist-packages (from kaggle) (1.24.3)\n",
            "Requirement already satisfied: python-slugify in /usr/local/lib/python3.6/dist-packages (from kaggle) (4.0.0)\n",
            "Requirement already satisfied: tqdm in /usr/local/lib/python3.6/dist-packages (from kaggle) (4.28.1)\n",
            "Requirement already satisfied: certifi in /usr/local/lib/python3.6/dist-packages (from kaggle) (2019.11.28)\n",
            "Requirement already satisfied: python-dateutil in /usr/local/lib/python3.6/dist-packages (from kaggle) (2.6.1)\n",
            "Requirement already satisfied: chardet<3.1.0,>=3.0.2 in /usr/local/lib/python3.6/dist-packages (from requests->kaggle) (3.0.4)\n",
            "Requirement already satisfied: idna<2.9,>=2.5 in /usr/local/lib/python3.6/dist-packages (from requests->kaggle) (2.8)\n",
            "Requirement already satisfied: text-unidecode>=1.3 in /usr/local/lib/python3.6/dist-packages (from python-slugify->kaggle) (1.3)\n"
          ],
          "name": "stdout"
        },
        {
          "output_type": "display_data",
          "data": {
            "text/html": [
              "\n",
              "     <input type=\"file\" id=\"files-c3dc98d3-2493-4cb2-9ee1-a15d4c96a355\" name=\"files[]\" multiple disabled />\n",
              "     <output id=\"result-c3dc98d3-2493-4cb2-9ee1-a15d4c96a355\">\n",
              "      Upload widget is only available when the cell has been executed in the\n",
              "      current browser session. Please rerun this cell to enable.\n",
              "      </output>\n",
              "      <script src=\"/nbextensions/google.colab/files.js\"></script> "
            ],
            "text/plain": [
              "<IPython.core.display.HTML object>"
            ]
          },
          "metadata": {
            "tags": []
          }
        },
        {
          "output_type": "stream",
          "text": [
            "Saving kaggle.json to kaggle.json\n"
          ],
          "name": "stdout"
        },
        {
          "output_type": "execute_result",
          "data": {
            "text/plain": [
              "{'kaggle.json': b'{\"username\":\"kiyoonpark\",\"key\":\"42c6f29b0c804c96556e74c186a22544\"}'}"
            ]
          },
          "metadata": {
            "tags": []
          },
          "execution_count": 12
        }
      ]
    },
    {
      "cell_type": "code",
      "metadata": {
        "id": "fm_MxxDrL2rP"
      },
      "source": [
        "!mkdir -p ~/.kaggle\n",
        "!cp kaggle.json ~/.kaggle/"
      ],
      "execution_count": null,
      "outputs": []
    },
    {
      "cell_type": "code",
      "metadata": {
        "id": "EEusI5LSMRPD"
      },
      "source": [
        "!chmod 600 ~/.kaggle/kaggle.json"
      ],
      "execution_count": null,
      "outputs": []
    },
    {
      "cell_type": "code",
      "metadata": {
        "id": "f7y7ySREMTe1",
        "colab": {
          "base_uri": "https://localhost:8080/",
          "height": 140
        },
        "outputId": "77ab35bb-733d-4924-eb57-9c504b985acf"
      },
      "source": [
        "!kaggle competitions download -c si650winter11"
      ],
      "execution_count": null,
      "outputs": [
        {
          "output_type": "stream",
          "text": [
            "Warning: Looks like you're using an outdated API Version, please consider updating (server 1.5.6 / client 1.5.4)\n",
            "Downloading testdata.txt.zip to /content\n",
            "  0% 0.00/471k [00:00<?, ?B/s]\n",
            "100% 471k/471k [00:00<00:00, 69.7MB/s]\n",
            "Downloading training.txt to /content\n",
            "  0% 0.00/437k [00:00<?, ?B/s]\n",
            "100% 437k/437k [00:00<00:00, 60.8MB/s]\n"
          ],
          "name": "stdout"
        }
      ]
    },
    {
      "cell_type": "code",
      "metadata": {
        "id": "2tmZkfOLMhGb",
        "colab": {
          "base_uri": "https://localhost:8080/",
          "height": 70
        },
        "outputId": "1856ebd0-4fb8-4a3c-b4ff-2d502200c33a"
      },
      "source": [
        "from sklearn.model_selection import train_test_split\n",
        "import collections\n",
        "import nltk\n",
        "from keras.layers.core import SpatialDropout1D, Dropout\n",
        "nltk.download('punkt')"
      ],
      "execution_count": null,
      "outputs": [
        {
          "output_type": "stream",
          "text": [
            "[nltk_data] Downloading package punkt to /root/nltk_data...\n",
            "[nltk_data]   Unzipping tokenizers/punkt.zip.\n"
          ],
          "name": "stdout"
        },
        {
          "output_type": "execute_result",
          "data": {
            "text/plain": [
              "True"
            ]
          },
          "metadata": {
            "tags": []
          },
          "execution_count": 16
        }
      ]
    },
    {
      "cell_type": "code",
      "metadata": {
        "id": "9rHZIEevMwo5"
      },
      "source": [
        "maxlen = 0\n",
        "word_freqs = collections.Counter()\n",
        "num_recs = 0\n",
        "\n",
        "with open('training.txt') as f:\n",
        "  for line in f:\n",
        "    data = line.strip().split('\\t')\n",
        "    label, sentence = data[0], data[1]\n",
        "    words = nltk.word_tokenize(sentence.lower())\n",
        "    if len(words) > maxlen:\n",
        "      maxlen = len(words)\n",
        "    for word in words:\n",
        "      word_freqs[word] += 1\n",
        "    num_recs += 1"
      ],
      "execution_count": null,
      "outputs": []
    },
    {
      "cell_type": "code",
      "metadata": {
        "id": "bCZKaiCiOKXl",
        "colab": {
          "base_uri": "https://localhost:8080/",
          "height": 52
        },
        "outputId": "ccb9f0d5-5636-4102-fa03-d65f9e3ad14a"
      },
      "source": [
        "print('Max length of words in one sentence:', maxlen)\n",
        "print('Total # of the words :', len(word_freqs))"
      ],
      "execution_count": null,
      "outputs": [
        {
          "output_type": "stream",
          "text": [
            "Max length of words in one sentence: 42\n",
            "Total # of the words : 2328\n"
          ],
          "name": "stdout"
        }
      ]
    },
    {
      "cell_type": "code",
      "metadata": {
        "id": "KTvmqWJkPByg"
      },
      "source": [
        "MAX_FEATURES = 2000\n",
        "MAX_SEQUENCE_LENGTH = 40\n",
        "\n",
        "vocab_size = min(MAX_FEATURES, len(word_freqs)) + 2\n",
        "word2index = {x[0] : i+2 for i, x in enumerate(word_freqs.most_common(MAX_FEATURES))}\n",
        "word2index['PAD'] = 0\n",
        "word2index['UNK'] = 1\n",
        "\n",
        "index2word = {v : k for k, v in word2index.items()}"
      ],
      "execution_count": null,
      "outputs": []
    },
    {
      "cell_type": "code",
      "metadata": {
        "id": "Gc2o3yPDW0vC"
      },
      "source": [
        "X = np.empty((num_recs, ), dtype = list)\n",
        "y = np.zeros((num_recs, ))\n",
        "i = 0\n",
        "\n",
        "with open('training.txt') as f:\n",
        "  for line in f:\n",
        "    data = line.strip().split('\\t')\n",
        "    label, sentence = data[0], data[1]\n",
        "    words = nltk.word_tokenize(sentence.lower())\n",
        "    seqs = []\n",
        "    for word in words:\n",
        "      if word in word2index.keys():\n",
        "        seqs.append(word2index[word])\n",
        "      else : seqs.append(word2index['UNK'])\n",
        "    X[i] = seqs\n",
        "    y[i] = int(label)\n",
        "    i += 1"
      ],
      "execution_count": null,
      "outputs": []
    },
    {
      "cell_type": "code",
      "metadata": {
        "id": "H9pY3Vsea1wz",
        "colab": {
          "base_uri": "https://localhost:8080/",
          "height": 52
        },
        "outputId": "204bb7b4-cfec-4143-af95-e3669f79f0cb"
      },
      "source": [
        "print('X.shape :', X.shape)\n",
        "print('y.shape :', y.shape)"
      ],
      "execution_count": null,
      "outputs": [
        {
          "output_type": "stream",
          "text": [
            "X.shape : (7086,)\n",
            "y.shape : (7086,)\n"
          ],
          "name": "stdout"
        }
      ]
    },
    {
      "cell_type": "code",
      "metadata": {
        "id": "Iyblx3rXbJlQ",
        "colab": {
          "base_uri": "https://localhost:8080/",
          "height": 122
        },
        "outputId": "d3c7156d-e1f2-4a81-86dd-80e0ab525238"
      },
      "source": [
        "X"
      ],
      "execution_count": null,
      "outputs": [
        {
          "output_type": "execute_result",
          "data": {
            "text/plain": [
              "array([list([5, 10, 9, 12, 101, 17, 48, 22, 4]),\n",
              "       list([67, 19, 5, 115, 969, 970, 2, 358, 136, 110, 3, 44, 317, 319, 23, 971, 3, 6, 10, 9, 12, 137, 118, 972, 341, 67, 4]),\n",
              "       list([2, 122, 5, 10, 9, 12, 18, 325, 4]), ...,\n",
              "       list([34, 2, 303, 96, 3, 156, 5, 304, 26, 220, 3, 2, 58, 305, 38, 73, 37, 2, 306, 5, 26, 11, 13, 4]),\n",
              "       list([94, 11, 13, 17, 144, 18, 127, 26, 4]),\n",
              "       list([89, 3, 6, 11, 13, 19, 18, 87, 26, 4])], dtype=object)"
            ]
          },
          "metadata": {
            "tags": []
          },
          "execution_count": 22
        }
      ]
    },
    {
      "cell_type": "code",
      "metadata": {
        "id": "5bA-YxRdbce6",
        "colab": {
          "base_uri": "https://localhost:8080/",
          "height": 140
        },
        "outputId": "37f046cf-1dba-44fc-c9c0-157fe62347b8"
      },
      "source": [
        "X = sequence.pad_sequences(X, maxlen = MAX_SEQUENCE_LENGTH)\n",
        "X"
      ],
      "execution_count": null,
      "outputs": [
        {
          "output_type": "execute_result",
          "data": {
            "text/plain": [
              "array([[  0,   0,   0, ...,  48,  22,   4],\n",
              "       [  0,   0,   0, ..., 341,  67,   4],\n",
              "       [  0,   0,   0, ...,  18, 325,   4],\n",
              "       ...,\n",
              "       [  0,   0,   0, ...,  11,  13,   4],\n",
              "       [  0,   0,   0, ..., 127,  26,   4],\n",
              "       [  0,   0,   0, ...,  87,  26,   4]], dtype=int32)"
            ]
          },
          "metadata": {
            "tags": []
          },
          "execution_count": 23
        }
      ]
    },
    {
      "cell_type": "code",
      "metadata": {
        "id": "iCi01hRicTXW"
      },
      "source": [
        "X_train, X_test, y_train, y_test = train_test_split(X, y, test_size = 0.2, random_state = 42)"
      ],
      "execution_count": null,
      "outputs": []
    },
    {
      "cell_type": "code",
      "metadata": {
        "id": "krv1kwQfcjxb",
        "colab": {
          "base_uri": "https://localhost:8080/",
          "height": 442
        },
        "outputId": "e4cb55b0-ec65-47ee-d050-f16d84a16248"
      },
      "source": [
        "EMBEDDING_SIZE = 128\n",
        "HIDDEN_LAYER_SIZE = 64\n",
        "BATCH_SIZE = 32\n",
        "NUM_EPOCHS = 10\n",
        "\n",
        "K.clear_session()\n",
        "model = Sequential()\n",
        "model.add(Embedding(vocab_size, EMBEDDING_SIZE,\n",
        "                    input_length = MAX_SEQUENCE_LENGTH))\n",
        "model.add(SpatialDropout1D(0.2))\n",
        "model.add(LSTM(HIDDEN_LAYER_SIZE, dropout = 0.2, recurrent_dropout = 0.2))\n",
        "model.add(Dense(1, activation = 'sigmoid'))\n",
        "model.summary()"
      ],
      "execution_count": null,
      "outputs": [
        {
          "output_type": "stream",
          "text": [
            "WARNING:tensorflow:From /usr/local/lib/python3.6/dist-packages/keras/backend/tensorflow_backend.py:107: The name tf.reset_default_graph is deprecated. Please use tf.compat.v1.reset_default_graph instead.\n",
            "\n",
            "WARNING:tensorflow:From /usr/local/lib/python3.6/dist-packages/keras/backend/tensorflow_backend.py:111: The name tf.placeholder_with_default is deprecated. Please use tf.compat.v1.placeholder_with_default instead.\n",
            "\n",
            "WARNING:tensorflow:From /usr/local/lib/python3.6/dist-packages/keras/backend/tensorflow_backend.py:3733: calling dropout (from tensorflow.python.ops.nn_ops) with keep_prob is deprecated and will be removed in a future version.\n",
            "Instructions for updating:\n",
            "Please use `rate` instead of `keep_prob`. Rate should be set to `rate = 1 - keep_prob`.\n",
            "Model: \"sequential_1\"\n",
            "_________________________________________________________________\n",
            "Layer (type)                 Output Shape              Param #   \n",
            "=================================================================\n",
            "embedding_1 (Embedding)      (None, 40, 128)           256256    \n",
            "_________________________________________________________________\n",
            "spatial_dropout1d_1 (Spatial (None, 40, 128)           0         \n",
            "_________________________________________________________________\n",
            "lstm_1 (LSTM)                (None, 64)                49408     \n",
            "_________________________________________________________________\n",
            "dense_1 (Dense)              (None, 1)                 65        \n",
            "=================================================================\n",
            "Total params: 305,729\n",
            "Trainable params: 305,729\n",
            "Non-trainable params: 0\n",
            "_________________________________________________________________\n"
          ],
          "name": "stdout"
        }
      ]
    },
    {
      "cell_type": "code",
      "metadata": {
        "id": "cRpXeDebdlPU"
      },
      "source": [
        "model.compile(loss = 'binary_crossentropy', optimizer = 'adam', metrics = ['accuracy'])"
      ],
      "execution_count": null,
      "outputs": []
    },
    {
      "cell_type": "code",
      "metadata": {
        "id": "EoS1USjNe4Ud",
        "colab": {
          "base_uri": "https://localhost:8080/",
          "height": 386
        },
        "outputId": "bb764b18-ecd1-40b5-a135-3d99f3718333"
      },
      "source": [
        "history = model.fit(X_train, y_train, batch_size = BATCH_SIZE, epochs = NUM_EPOCHS, validation_data = (X_test, y_test))"
      ],
      "execution_count": null,
      "outputs": [
        {
          "output_type": "stream",
          "text": [
            "Train on 5668 samples, validate on 1418 samples\n",
            "Epoch 1/10\n",
            "5668/5668 [==============================] - 18s 3ms/step - loss: 0.2403 - acc: 0.8927 - val_loss: 0.0641 - val_acc: 0.9718\n",
            "Epoch 2/10\n",
            "5668/5668 [==============================] - 17s 3ms/step - loss: 0.0259 - acc: 0.9917 - val_loss: 0.0464 - val_acc: 0.9866\n",
            "Epoch 3/10\n",
            "5668/5668 [==============================] - 17s 3ms/step - loss: 0.0103 - acc: 0.9966 - val_loss: 0.0419 - val_acc: 0.9824\n",
            "Epoch 4/10\n",
            "5668/5668 [==============================] - 17s 3ms/step - loss: 0.0047 - acc: 0.9988 - val_loss: 0.0462 - val_acc: 0.9887\n",
            "Epoch 5/10\n",
            "5668/5668 [==============================] - 17s 3ms/step - loss: 0.0024 - acc: 0.9993 - val_loss: 0.0614 - val_acc: 0.9880\n",
            "Epoch 6/10\n",
            "5668/5668 [==============================] - 17s 3ms/step - loss: 0.0021 - acc: 0.9995 - val_loss: 0.0451 - val_acc: 0.9908\n",
            "Epoch 7/10\n",
            "5668/5668 [==============================] - 18s 3ms/step - loss: 0.0016 - acc: 0.9995 - val_loss: 0.0586 - val_acc: 0.9894\n",
            "Epoch 8/10\n",
            "5668/5668 [==============================] - 17s 3ms/step - loss: 0.0010 - acc: 0.9996 - val_loss: 0.0592 - val_acc: 0.9901\n",
            "Epoch 9/10\n",
            "5668/5668 [==============================] - 16s 3ms/step - loss: 0.0011 - acc: 0.9996 - val_loss: 0.0571 - val_acc: 0.9894\n",
            "Epoch 10/10\n",
            "5668/5668 [==============================] - 17s 3ms/step - loss: 0.0011 - acc: 0.9996 - val_loss: 0.0728 - val_acc: 0.9894\n"
          ],
          "name": "stdout"
        }
      ]
    },
    {
      "cell_type": "code",
      "metadata": {
        "id": "caKDAFSVfQOE",
        "colab": {
          "base_uri": "https://localhost:8080/",
          "height": 309
        },
        "outputId": "7a44e816-8fae-4272-9fc7-213f6a55e98f"
      },
      "source": [
        "display_history(history)"
      ],
      "execution_count": null,
      "outputs": [
        {
          "output_type": "display_data",
          "data": {
            "image/png": "[encoded data removed]",
            "text/plain": [
              "<Figure size 576x288 with 2 Axes>"
            ]
          },
          "metadata": {
            "tags": []
          }
        }
      ]
    },
    {
      "cell_type": "code",
      "metadata": {
        "id": "VYG8ulGKgJaj",
        "colab": {
          "base_uri": "https://localhost:8080/",
          "height": 87
        },
        "outputId": "fc30426d-353f-45c7-e72b-27c44bff352c"
      },
      "source": [
        "for i in range(4):\n",
        "  idx = np.random.randint(len(X_test))\n",
        "  _X_test = X_test[idx].reshape(1,40)\n",
        "  y_label = y_test[idx]\n",
        "  y_pred = model.predict(X_test)[0][0]\n",
        "  sent = ' '.join([index2word[x] for x in _X_test[0].tolist() if x != 0])\n",
        "  print('%.0f\\t%d\\t%s' % (y_pred, y_label, sent))"
      ],
      "execution_count": null,
      "outputs": [
        {
          "output_type": "stream",
          "text": [
            "1\t0\talthough watching harry potter was a little boring .\n",
            "1\t0\thopefully , this is not the case , and the acting will have us overlooking the color of their hair . ( trivia : harry potter 's eyes are the wrong color in the movie .\n",
            "1\t0\tthe da vinci code suck ass..\n",
            "1\t0\tand UNK UNK telling me how brokeback mountain sucks so much , but everyone else liked it , so i think i 'll go see it .\n"
          ],
          "name": "stdout"
        }
      ]
    },
    {
      "cell_type": "code",
      "metadata": {
        "id": "qNREM5vrET9f",
        "colab": {
          "base_uri": "https://localhost:8080/",
          "height": 70
        },
        "outputId": "8cd628a7-74f3-49e6-d799-fa79a049b894"
      },
      "source": [
        "from keras.layers.core import RepeatVector\n",
        "from keras.layers.recurrent import GRU\n",
        "from keras.layers.wrappers import TimeDistributed\n",
        "from keras.utils import np_utils\n",
        "\n",
        "nltk.download('treebank')"
      ],
      "execution_count": null,
      "outputs": [
        {
          "output_type": "stream",
          "text": [
            "[nltk_data] Downloading package treebank to /root/nltk_data...\n",
            "[nltk_data]   Unzipping corpora/treebank.zip.\n"
          ],
          "name": "stdout"
        },
        {
          "output_type": "execute_result",
          "data": {
            "text/plain": [
              "True"
            ]
          },
          "metadata": {
            "tags": []
          },
          "execution_count": 30
        }
      ]
    },
    {
      "cell_type": "code",
      "metadata": {
        "id": "yJwCsBQhEUH5"
      },
      "source": [
        "fedata = open('treebank_sents.txt', 'w')\n",
        "ffdata = open('treebank_poss.txt', 'w')\n",
        "NOT_PERMITTED = [\n",
        "                 '-NONE-',\n",
        "]\n",
        "\n",
        "sents = nltk.corpus.treebank.tagged_sents()\n",
        "for sent in sents:\n",
        "  words, poss = [], []\n",
        "  for word, pos in sent:\n",
        "    if pos in NOT_PERMITTED : continue\n",
        "    words.append(word)\n",
        "    poss.append(pos)\n",
        "  fedata.write('{:s}\\n'.format(' '.join(words)))\n",
        "  ffdata.write('{:s}\\n'.format(' '.join(poss)))\n",
        "\n",
        "fedata.close()\n",
        "ffdata.close()"
      ],
      "execution_count": null,
      "outputs": []
    },
    {
      "cell_type": "code",
      "metadata": {
        "id": "kxvelafJEUGL",
        "colab": {
          "base_uri": "https://localhost:8080/",
          "height": 52
        },
        "outputId": "27ca20f4-de23-4d20-c944-3ad0b28fcda2"
      },
      "source": [
        "!ls"
      ],
      "execution_count": null,
      "outputs": [
        {
          "output_type": "stream",
          "text": [
            "kaggle.json  sample_data       training.txt\t  treebank_sents.txt\n",
            "model.png    testdata.txt.zip  treebank_poss.txt\n"
          ],
          "name": "stdout"
        }
      ]
    },
    {
      "cell_type": "code",
      "metadata": {
        "id": "IUNf0ZDgEUD0"
      },
      "source": [
        "def parse_sentences(filename):\n",
        "  word_freqs = collections.Counter()\n",
        "  num_recs, maxlen = 0, 0\n",
        "  with open(filename, 'r') as f:\n",
        "    for line in f:\n",
        "      words = line.strip().lower().split()\n",
        "      for word in words :\n",
        "        word_freqs[word] += 1\n",
        "      if len(words) > maxlen : maxlen = len(words)\n",
        "      num_recs += 1\n",
        "  return word_freqs, maxlen, num_recs"
      ],
      "execution_count": null,
      "outputs": []
    },
    {
      "cell_type": "code",
      "metadata": {
        "id": "FW1jO02eEUBw"
      },
      "source": [
        "s_wordfreqs, s_maxlen, s_numrecs = parse_sentences('treebank_sents.txt')\n",
        "t_wordfreqs, t_maxlen, t_numrecs = parse_sentences('treebank_poss.txt')"
      ],
      "execution_count": null,
      "outputs": []
    },
    {
      "cell_type": "code",
      "metadata": {
        "id": "FsGtmeTwET7a",
        "colab": {
          "base_uri": "https://localhost:8080/",
          "height": 70
        },
        "outputId": "5d509e9f-1de9-43cb-a347-0bac0f827d9d"
      },
      "source": [
        "print('len(s_wordfreqs) :', len(s_wordfreqs))\n",
        "print('s_maxlen :', s_maxlen)\n",
        "print('s_numrecs :', s_numrecs)"
      ],
      "execution_count": null,
      "outputs": [
        {
          "output_type": "stream",
          "text": [
            "len(s_wordfreqs) : 10947\n",
            "s_maxlen : 249\n",
            "s_numrecs : 3914\n"
          ],
          "name": "stdout"
        }
      ]
    },
    {
      "cell_type": "code",
      "metadata": {
        "id": "O03NOMpaET5i",
        "colab": {
          "base_uri": "https://localhost:8080/",
          "height": 70
        },
        "outputId": "502fb100-d3c7-4f5c-8c80-fef5a291155d"
      },
      "source": [
        "print('len(t_wordfreqs) :', len(t_wordfreqs))\n",
        "print('t_maxlen :', t_maxlen)\n",
        "print('t_numrecs :', t_numrecs)"
      ],
      "execution_count": null,
      "outputs": [
        {
          "output_type": "stream",
          "text": [
            "len(t_wordfreqs) : 45\n",
            "t_maxlen : 249\n",
            "t_numrecs : 3914\n"
          ],
          "name": "stdout"
        }
      ]
    },
    {
      "cell_type": "code",
      "metadata": {
        "id": "tCOsy8a4ET2c"
      },
      "source": [
        "MAX_SEQLEN = 250\n",
        "S_MAX_FEATURES = 10947\n",
        "T_MAX_FEATURES = 45\n",
        "\n",
        "s_vocabsize = min(len(s_wordfreqs), S_MAX_FEATURES) + 1\n",
        "s_word2index = {x[0]:i+1 for i, x in enumerate(s_wordfreqs.most_common(S_MAX_FEATURES))}\n",
        "s_word2index[\"PAD\"] = 0\n",
        "#s_word2index[\"UNK\"] = 1\n",
        "s_index2word = {v:k for k, v in s_word2index.items()}\n",
        "\n",
        "t_vocabsize = len(t_wordfreqs) + 1\n",
        "t_word2index = {x[0]:i+1 for i, x in enumerate(t_wordfreqs.most_common(T_MAX_FEATURES))}\n",
        "t_word2index[\"PAD\"] = 0\n",
        "t_index2word = {v:k for k, v in t_word2index.items()}"
      ],
      "execution_count": null,
      "outputs": []
    },
    {
      "cell_type": "code",
      "metadata": {
        "id": "kzMb-RFUET0J"
      },
      "source": [
        "def build_tensor(filename, numrecs, word2index, maxlen, make_categorical = False, num_classes = 0):\n",
        "    data = np.empty((numrecs, ), dtype=list)\n",
        "    fin = open(filename, \"r\")\n",
        "    i = 0\n",
        "    for line in fin:\n",
        "        wids = []\n",
        "        for word in line.strip().lower().split():\n",
        "            if word in word2index.keys():\n",
        "                wids.append(word2index[word])\n",
        "            else:\n",
        "                wids.append(word2index['UNK'])\n",
        "        if make_categorical:\n",
        "            data[i] = np_utils.to_categorical(wids, num_classes=num_classes)\n",
        "        else:\n",
        "            data[i] = wids\n",
        "            \n",
        "        i += 1\n",
        "    fin.close()\n",
        "    pdata = sequence.pad_sequences(data, maxlen=maxlen)\n",
        "    return pdata"
      ],
      "execution_count": null,
      "outputs": []
    },
    {
      "cell_type": "code",
      "metadata": {
        "id": "kL_foqBUETx5"
      },
      "source": [
        "X = build_tensor(\"treebank_sents.txt\", s_numrecs, s_word2index, MAX_SEQLEN)\n",
        "Y = build_tensor(\"treebank_poss.txt\", t_numrecs, t_word2index, MAX_SEQLEN, True, t_vocabsize)"
      ],
      "execution_count": null,
      "outputs": []
    },
    {
      "cell_type": "code",
      "metadata": {
        "id": "rEyYVG4tETvd"
      },
      "source": [
        "X_train, X_test, Y_train, Y_test = train_test_split(X, Y, test_size=0.2, random_state=42)"
      ],
      "execution_count": null,
      "outputs": []
    },
    {
      "cell_type": "code",
      "metadata": {
        "id": "e0B74xQuA_0T",
        "colab": {
          "base_uri": "https://localhost:8080/",
          "height": 404
        },
        "outputId": "95034347-0fce-4a64-e410-4ef1ad500845"
      },
      "source": [
        "EMBED_SIZE = 128\n",
        "HIDDEN_SIZE = 64\n",
        "BATCH_SIZE = 32\n",
        "NUM_EPOCHS = 6\n",
        "\n",
        "K.clear_session()\n",
        "model = Sequential()\n",
        "model.add(Embedding(s_vocabsize, EMBED_SIZE, input_length=MAX_SEQLEN))\n",
        "model.add(SpatialDropout1D(0.2))\n",
        "model.add(GRU(HIDDEN_SIZE, dropout=0.2, recurrent_dropout=0.2))\n",
        "model.add(RepeatVector(MAX_SEQLEN))\n",
        "model.add(GRU(HIDDEN_SIZE, return_sequences=True))\n",
        "model.add(TimeDistributed(Dense(t_vocabsize)))\n",
        "model.add(Activation(\"softmax\"))\n",
        "model.summary()"
      ],
      "execution_count": null,
      "outputs": [
        {
          "output_type": "stream",
          "text": [
            "Model: \"sequential_1\"\n",
            "_________________________________________________________________\n",
            "Layer (type)                 Output Shape              Param #   \n",
            "=================================================================\n",
            "embedding_1 (Embedding)      (None, 250, 128)          1401344   \n",
            "_________________________________________________________________\n",
            "spatial_dropout1d_1 (Spatial (None, 250, 128)          0         \n",
            "_________________________________________________________________\n",
            "gru_1 (GRU)                  (None, 64)                37056     \n",
            "_________________________________________________________________\n",
            "repeat_vector_1 (RepeatVecto (None, 250, 64)           0         \n",
            "_________________________________________________________________\n",
            "gru_2 (GRU)                  (None, 250, 64)           24768     \n",
            "_________________________________________________________________\n",
            "time_distributed_1 (TimeDist (None, 250, 46)           2990      \n",
            "_________________________________________________________________\n",
            "activation_1 (Activation)    (None, 250, 46)           0         \n",
            "=================================================================\n",
            "Total params: 1,466,158\n",
            "Trainable params: 1,466,158\n",
            "Non-trainable params: 0\n",
            "_________________________________________________________________\n"
          ],
          "name": "stdout"
        }
      ]
    },
    {
      "cell_type": "code",
      "metadata": {
        "id": "qkgQCIOoSEAl"
      },
      "source": [
        "model.compile(loss=\"categorical_crossentropy\", optimizer=\"adam\", metrics=[\"accuracy\"])"
      ],
      "execution_count": null,
      "outputs": []
    },
    {
      "cell_type": "code",
      "metadata": {
        "id": "u5NqZfowdWol",
        "colab": {
          "base_uri": "https://localhost:8080/",
          "height": 263
        },
        "outputId": "47cb664f-09a8-4527-d658-09cb5dc943f6"
      },
      "source": [
        "model.fit(X_train, Y_train, batch_size=BATCH_SIZE, epochs=NUM_EPOCHS, validation_data=[X_test, Y_test])"
      ],
      "execution_count": null,
      "outputs": [
        {
          "output_type": "stream",
          "text": [
            "Train on 3131 samples, validate on 783 samples\n",
            "Epoch 1/6\n",
            "3131/3131 [==============================] - 86s 27ms/step - loss: 0.3031 - acc: 0.0123 - val_loss: 0.2929 - val_acc: 0.0139\n",
            "Epoch 2/6\n",
            "3131/3131 [==============================] - 84s 27ms/step - loss: 0.2860 - acc: 0.0133 - val_loss: 0.2912 - val_acc: 0.0140\n",
            "Epoch 3/6\n",
            "3131/3131 [==============================] - 84s 27ms/step - loss: 0.2829 - acc: 0.0141 - val_loss: 0.2873 - val_acc: 0.0153\n",
            "Epoch 4/6\n",
            "3131/3131 [==============================] - 84s 27ms/step - loss: 0.2777 - acc: 0.0156 - val_loss: 0.2840 - val_acc: 0.0154\n",
            "Epoch 5/6\n",
            "3131/3131 [==============================] - 82s 26ms/step - loss: 0.2747 - acc: 0.0161 - val_loss: 0.2830 - val_acc: 0.0161\n",
            "Epoch 6/6\n",
            "3131/3131 [==============================] - 84s 27ms/step - loss: 0.2731 - acc: 0.0165 - val_loss: 0.2820 - val_acc: 0.0159\n"
          ],
          "name": "stdout"
        },
        {
          "output_type": "execute_result",
          "data": {
            "text/plain": [
              "<keras.callbacks.History at 0x7f618a205630>"
            ]
          },
          "metadata": {
            "tags": []
          },
          "execution_count": 43
        }
      ]
    },
    {
      "cell_type": "code",
      "metadata": {
        "id": "-Cpos-lIXIg8",
        "colab": {
          "base_uri": "https://localhost:8080/",
          "height": 70
        },
        "outputId": "3f292e9b-1bf8-455e-98f0-001c7ce75d4c"
      },
      "source": [
        "loss, acc = model.evaluate(X_test, Y_test)\n",
        "print('Accuracy :', acc)\n",
        "print('Loss :', loss)"
      ],
      "execution_count": null,
      "outputs": [
        {
          "output_type": "stream",
          "text": [
            "783/783 [==============================] - 7s 9ms/step\n",
            "Accuracy : 0.01591315449454547\n",
            "Loss : 0.2819615081428416\n"
          ],
          "name": "stdout"
        }
      ]
    },
    {
      "cell_type": "code",
      "metadata": {
        "id": "hKvkrVwCXW_P",
        "colab": {
          "base_uri": "https://localhost:8080/",
          "height": 34
        },
        "outputId": "aa390509-588b-48be-9bfd-9e6bd06bd370"
      },
      "source": [
        "tagged_sentences = nltk.corpus.treebank.tagged_sents() # 토큰화에 품사 태깅이 된 데이터 받아오기\n",
        "print(\"품사 태깅이 된 문장 개수: \", len(tagged_sentences)) # 문장 샘플의 개수 출력"
      ],
      "execution_count": null,
      "outputs": [
        {
          "output_type": "stream",
          "text": [
            "품사 태깅이 된 문장 개수:  3914\n"
          ],
          "name": "stdout"
        }
      ]
    },
    {
      "cell_type": "code",
      "metadata": {
        "id": "_VNv-kB2XZm2",
        "colab": {
          "base_uri": "https://localhost:8080/",
          "height": 54
        },
        "outputId": "bae6a2c3-dfef-462d-8f53-23caf4b69a06"
      },
      "source": [
        "print(tagged_sentences[0]) # 첫번째 샘플 출력"
      ],
      "execution_count": null,
      "outputs": [
        {
          "output_type": "stream",
          "text": [
            "[('Pierre', 'NNP'), ('Vinken', 'NNP'), (',', ','), ('61', 'CD'), ('years', 'NNS'), ('old', 'JJ'), (',', ','), ('will', 'MD'), ('join', 'VB'), ('the', 'DT'), ('board', 'NN'), ('as', 'IN'), ('a', 'DT'), ('nonexecutive', 'JJ'), ('director', 'NN'), ('Nov.', 'NNP'), ('29', 'CD'), ('.', '.')]\n"
          ],
          "name": "stdout"
        }
      ]
    },
    {
      "cell_type": "code",
      "metadata": {
        "id": "bhawcWv0X45x"
      },
      "source": [
        "sentences, pos_tags = [], [] \n",
        "for tagged_sentence in tagged_sentences: # 3,914개의 문장 샘플을 1개씩 불러온다.\n",
        "    sentence, tag_info = zip(*tagged_sentence) # 각 샘플에서 단어들은 sentence에 품사 태깅 정보들은 tag_info에 저장한다.\n",
        "    sentences.append(list(sentence)) # 각 샘플에서 단어 정보만 저장한다.\n",
        "    pos_tags.append(list(tag_info)) # 각 샘플에서 품사 태깅 정보만 저장한다."
      ],
      "execution_count": null,
      "outputs": []
    },
    {
      "cell_type": "code",
      "metadata": {
        "id": "s4l2sp2FbeCP",
        "colab": {
          "base_uri": "https://localhost:8080/",
          "height": 52
        },
        "outputId": "4cb7eabb-2a3b-4827-cd30-d92e8e93ee4c"
      },
      "source": [
        "print(sentences[0])\n",
        "print(pos_tags[0])"
      ],
      "execution_count": null,
      "outputs": [
        {
          "output_type": "stream",
          "text": [
            "['Pierre', 'Vinken', ',', '61', 'years', 'old', ',', 'will', 'join', 'the', 'board', 'as', 'a', 'nonexecutive', 'director', 'Nov.', '29', '.']\n",
            "['NNP', 'NNP', ',', 'CD', 'NNS', 'JJ', ',', 'MD', 'VB', 'DT', 'NN', 'IN', 'DT', 'JJ', 'NN', 'NNP', 'CD', '.']\n"
          ],
          "name": "stdout"
        }
      ]
    },
    {
      "cell_type": "code",
      "metadata": {
        "id": "8LF4H7BwcEl4",
        "colab": {
          "base_uri": "https://localhost:8080/",
          "height": 318
        },
        "outputId": "ce8f1a71-3674-4654-8663-103b236456c1"
      },
      "source": [
        "print('샘플의 최대 길이 : %d' % max(len(l) for l in sentences))\n",
        "print('샘플의 평균 길이 : %f' % (sum(map(len, sentences))/len(sentences)))\n",
        "plt.hist([len(s) for s in sentences], bins=50)\n",
        "plt.xlabel('length of samples')\n",
        "plt.ylabel('number of samples')\n",
        "plt.show()"
      ],
      "execution_count": null,
      "outputs": [
        {
          "output_type": "stream",
          "text": [
            "샘플의 최대 길이 : 271\n",
            "샘플의 평균 길이 : 25.722024\n"
          ],
          "name": "stdout"
        },
        {
          "output_type": "display_data",
          "data": {
            "image/png": "[encoded data removed]",
            "text/plain": [
              "<Figure size 432x288 with 1 Axes>"
            ]
          },
          "metadata": {
            "tags": []
          }
        }
      ]
    },
    {
      "cell_type": "code",
      "metadata": {
        "id": "-m2r0a7bcGkP"
      },
      "source": [
        "def tokenize(samples):\n",
        "  tokenizer = Tokenizer()\n",
        "  tokenizer.fit_on_texts(samples)\n",
        "  return tokenizer"
      ],
      "execution_count": null,
      "outputs": []
    },
    {
      "cell_type": "code",
      "metadata": {
        "id": "yUQ1E9uQcXdO"
      },
      "source": [
        "src_tokenizer = tokenize(sentences)\n",
        "tar_tokenizer = tokenize(pos_tags)"
      ],
      "execution_count": null,
      "outputs": []
    },
    {
      "cell_type": "code",
      "metadata": {
        "id": "ByNDPwsNhpcn",
        "colab": {
          "base_uri": "https://localhost:8080/",
          "height": 52
        },
        "outputId": "0c66d16a-5a04-45e9-be81-ade4d9fb4d35"
      },
      "source": [
        "vocab_size = len(src_tokenizer.word_index) + 1\n",
        "tag_size = len(tar_tokenizer.word_index) + 1\n",
        "print('단어 집합의 크기 : {}'.format(vocab_size))\n",
        "print('태깅 정보 집합의 크기 : {}'.format(tag_size))"
      ],
      "execution_count": null,
      "outputs": [
        {
          "output_type": "stream",
          "text": [
            "단어 집합의 크기 : 11388\n",
            "태깅 정보 집합의 크기 : 47\n"
          ],
          "name": "stdout"
        }
      ]
    },
    {
      "cell_type": "code",
      "metadata": {
        "id": "clQY_dGQxmpn"
      },
      "source": [
        "X_train = src_tokenizer.texts_to_sequences(sentences)\n",
        "y_train = tar_tokenizer.texts_to_sequences(pos_tags)"
      ],
      "execution_count": null,
      "outputs": []
    },
    {
      "cell_type": "code",
      "metadata": {
        "id": "JUvRXRhGxo9P"
      },
      "source": [
        "max_len = 150\n",
        "X_train = sequence.pad_sequences(X_train, padding='post', maxlen=max_len)\n",
        "# X_train의 모든 샘플의 길이를 맞출 때 뒤의 공간에 숫자 0으로 채움.\n",
        "y_train = sequence.pad_sequences(y_train, padding='post', maxlen=max_len)\n",
        "# y_train의 모든 샘플의 길이를 맞출 때 뒤의 공간에 숫자 0으로 채움."
      ],
      "execution_count": null,
      "outputs": []
    },
    {
      "cell_type": "code",
      "metadata": {
        "id": "dERv-DWIxvEi"
      },
      "source": [
        "X_train, X_test, y_train, y_test = train_test_split(X_train, y_train, test_size=.2, random_state=777)"
      ],
      "execution_count": null,
      "outputs": []
    },
    {
      "cell_type": "code",
      "metadata": {
        "id": "E4ifSRpEx4em"
      },
      "source": [
        "Y_train = np_utils.to_categorical(y_train, num_classes=tag_size)\n",
        "Y_test = np_utils.to_categorical(y_test, num_classes=tag_size)"
      ],
      "execution_count": null,
      "outputs": []
    },
    {
      "cell_type": "code",
      "metadata": {
        "id": "5N1XJueix8TF",
        "colab": {
          "base_uri": "https://localhost:8080/",
          "height": 87
        },
        "outputId": "44e5b132-d275-4967-90a4-c78259709319"
      },
      "source": [
        "print('훈련 샘플 문장의 크기 : {}'.format(X_train.shape))\n",
        "print('훈련 샘플 레이블의 크기 : {}'.format(Y_train.shape))\n",
        "print('테스트 샘플 문장의 크기 : {}'.format(X_test.shape))\n",
        "print('테스트 샘플 레이블의 크기 : {}'.format(Y_test.shape))"
      ],
      "execution_count": null,
      "outputs": [
        {
          "output_type": "stream",
          "text": [
            "훈련 샘플 문장의 크기 : (3131, 150)\n",
            "훈련 샘플 레이블의 크기 : (3131, 150, 47)\n",
            "테스트 샘플 문장의 크기 : (783, 150)\n",
            "테스트 샘플 레이블의 크기 : (783, 150, 47)\n"
          ],
          "name": "stdout"
        }
      ]
    },
    {
      "cell_type": "code",
      "metadata": {
        "id": "YCZy1H7QyJzT",
        "colab": {
          "base_uri": "https://localhost:8080/",
          "height": 404
        },
        "outputId": "96e13534-ce6b-48b4-8505-a2e148445e1d"
      },
      "source": [
        "EMBED_SIZE = 128\n",
        "HIDDEN_SIZE = 64\n",
        "BATCH_SIZE = 32\n",
        "NUM_EPOCHS = 6\n",
        "\n",
        "K.clear_session()\n",
        "model = Sequential()\n",
        "model.add(Embedding(vocab_size, EMBED_SIZE, input_length = max_len))\n",
        "model.add(SpatialDropout1D(0.2))\n",
        "model.add(GRU(HIDDEN_SIZE, dropout=0.2, recurrent_dropout=0.2))\n",
        "model.add(RepeatVector(max_len))\n",
        "model.add(GRU(HIDDEN_SIZE, return_sequences=True))\n",
        "model.add(TimeDistributed(Dense(tag_size)))\n",
        "model.add(Activation(\"softmax\"))\n",
        "model.summary()"
      ],
      "execution_count": null,
      "outputs": [
        {
          "output_type": "stream",
          "text": [
            "Model: \"sequential_1\"\n",
            "_________________________________________________________________\n",
            "Layer (type)                 Output Shape              Param #   \n",
            "=================================================================\n",
            "embedding_1 (Embedding)      (None, 150, 128)          1457664   \n",
            "_________________________________________________________________\n",
            "spatial_dropout1d_1 (Spatial (None, 150, 128)          0         \n",
            "_________________________________________________________________\n",
            "gru_1 (GRU)                  (None, 64)                37056     \n",
            "_________________________________________________________________\n",
            "repeat_vector_1 (RepeatVecto (None, 150, 64)           0         \n",
            "_________________________________________________________________\n",
            "gru_2 (GRU)                  (None, 150, 64)           24768     \n",
            "_________________________________________________________________\n",
            "time_distributed_1 (TimeDist (None, 150, 47)           3055      \n",
            "_________________________________________________________________\n",
            "activation_1 (Activation)    (None, 150, 47)           0         \n",
            "=================================================================\n",
            "Total params: 1,522,543\n",
            "Trainable params: 1,522,543\n",
            "Non-trainable params: 0\n",
            "_________________________________________________________________\n"
          ],
          "name": "stdout"
        }
      ]
    },
    {
      "cell_type": "code",
      "metadata": {
        "id": "8v-SiNWhyOAR"
      },
      "source": [
        "model.compile(loss = 'categorical_crossentropy', optimizer = 'adam', metrics = ['accuracy'])"
      ],
      "execution_count": null,
      "outputs": []
    },
    {
      "cell_type": "code",
      "metadata": {
        "id": "toGhHoTkyVXg",
        "colab": {
          "base_uri": "https://localhost:8080/",
          "height": 246
        },
        "outputId": "4864c318-0216-4b34-ce41-7e146cba4481"
      },
      "source": [
        "history = model.fit(X_train, Y_train, batch_size=128, epochs=6,  validation_data=(X_test, Y_test))"
      ],
      "execution_count": null,
      "outputs": [
        {
          "output_type": "stream",
          "text": [
            "Train on 3131 samples, validate on 783 samples\n",
            "Epoch 1/6\n",
            "3131/3131 [==============================] - 16s 5ms/step - loss: 2.7595 - acc: 0.7625 - val_loss: 1.1999 - val_acc: 0.8294\n",
            "Epoch 2/6\n",
            "3131/3131 [==============================] - 15s 5ms/step - loss: 1.0492 - acc: 0.8286 - val_loss: 0.8994 - val_acc: 0.8294\n",
            "Epoch 3/6\n",
            "3131/3131 [==============================] - 15s 5ms/step - loss: 0.8709 - acc: 0.8286 - val_loss: 0.8430 - val_acc: 0.8294\n",
            "Epoch 4/6\n",
            "3131/3131 [==============================] - 15s 5ms/step - loss: 0.8320 - acc: 0.8286 - val_loss: 0.8082 - val_acc: 0.8294\n",
            "Epoch 5/6\n",
            "3131/3131 [==============================] - 15s 5ms/step - loss: 0.7825 - acc: 0.8286 - val_loss: 0.7320 - val_acc: 0.8296\n",
            "Epoch 6/6\n",
            "3131/3131 [==============================] - 14s 5ms/step - loss: 0.7064 - acc: 0.8313 - val_loss: 0.6736 - val_acc: 0.8353\n"
          ],
          "name": "stdout"
        }
      ]
    },
    {
      "cell_type": "code",
      "metadata": {
        "id": "1tdRqK6hyaQM",
        "colab": {
          "base_uri": "https://localhost:8080/",
          "height": 309
        },
        "outputId": "2730e3c2-4648-4fce-8a8e-13903dbc34cf"
      },
      "source": [
        "display_history(history)"
      ],
      "execution_count": null,
      "outputs": [
        {
          "output_type": "display_data",
          "data": {
            "image/png": "[encoded data removed]",
            "text/plain": [
              "<Figure size 576x288 with 2 Axes>"
            ]
          },
          "metadata": {
            "tags": []
          }
        }
      ]
    },
    {
      "cell_type": "code",
      "metadata": {
        "id": "yeRiCMRbzf7I",
        "colab": {
          "base_uri": "https://localhost:8080/",
          "height": 362
        },
        "outputId": "969fdd11-4251-4eae-d282-5606aed321d7"
      },
      "source": [
        "index_to_word=src_tokenizer.index_word\n",
        "index_to_tag=tar_tokenizer.index_word\n",
        "\n",
        "i=10 # 확인하고 싶은 테스트용 샘플의 인덱스.\n",
        "y_predicted = model.predict(np.array([X_test[i]])) # 입력한 테스트용 샘플에 대해서 예측 y를 리턴\n",
        "y_predicted = np.argmax(y_predicted, axis=-1) # 원-핫 인코딩을 다시 정수 인코딩으로 변경함.\n",
        "\n",
        "true = np.argmax(Y_test[i], -1) # 원-핫 인코딩을 다시 정수 인코딩으로 변경함.\n",
        "\n",
        "print(\"{:15}|{:5}|{}\".format(\"단어\", \"실제값\", \"예측값\"))\n",
        "print(35 * \"-\")\n",
        "\n",
        "for w, t, pred in zip(X_test[i], true, y_predicted[0]):\n",
        "    if w != 0: # PAD값은 제외함.\n",
        "        print(\"{:17}: {:7} {}\".format(index_to_word[w], index_to_tag[t].upper(), index_to_tag[pred].upper()))\n",
        "       "
      ],
      "execution_count": null,
      "outputs": [
        {
          "output_type": "stream",
          "text": [
            "단어             |실제값  |예측값\n",
            "-----------------------------------\n",
            "in               : IN      NNP\n",
            "addition         : NN      NNP\n",
            ",                : ,       NN\n",
            "buick            : NNP     NN\n",
            "is               : VBZ     NN\n",
            "a                : DT      NN\n"
          ],
          "name": "stdout"
        },
        {
          "output_type": "error",
          "ename": "KeyError",
          "evalue": "ignored",
          "traceback": [
            "\u001b[0;31m---------------------------------------------------------------------------\u001b[0m",
            "\u001b[0;31mKeyError\u001b[0m                                  Traceback (most recent call last)",
            "\u001b[0;32m<ipython-input-101-d12422ab768b>\u001b[0m in \u001b[0;36m<module>\u001b[0;34m()\u001b[0m\n\u001b[1;32m     13\u001b[0m \u001b[0;32mfor\u001b[0m \u001b[0mw\u001b[0m\u001b[0;34m,\u001b[0m \u001b[0mt\u001b[0m\u001b[0;34m,\u001b[0m \u001b[0mpred\u001b[0m \u001b[0;32min\u001b[0m \u001b[0mzip\u001b[0m\u001b[0;34m(\u001b[0m\u001b[0mX_test\u001b[0m\u001b[0;34m[\u001b[0m\u001b[0mi\u001b[0m\u001b[0;34m]\u001b[0m\u001b[0;34m,\u001b[0m \u001b[0mtrue\u001b[0m\u001b[0;34m,\u001b[0m \u001b[0my_predicted\u001b[0m\u001b[0;34m[\u001b[0m\u001b[0;36m0\u001b[0m\u001b[0;34m]\u001b[0m\u001b[0;34m)\u001b[0m\u001b[0;34m:\u001b[0m\u001b[0;34m\u001b[0m\u001b[0;34m\u001b[0m\u001b[0m\n\u001b[1;32m     14\u001b[0m     \u001b[0;32mif\u001b[0m \u001b[0mw\u001b[0m \u001b[0;34m!=\u001b[0m \u001b[0;36m0\u001b[0m\u001b[0;34m:\u001b[0m \u001b[0;31m# PAD값은 제외함.\u001b[0m\u001b[0;34m\u001b[0m\u001b[0;34m\u001b[0m\u001b[0m\n\u001b[0;32m---> 15\u001b[0;31m         \u001b[0mprint\u001b[0m\u001b[0;34m(\u001b[0m\u001b[0;34m\"{:17}: {:7} {}\"\u001b[0m\u001b[0;34m.\u001b[0m\u001b[0mformat\u001b[0m\u001b[0;34m(\u001b[0m\u001b[0mindex_to_word\u001b[0m\u001b[0;34m[\u001b[0m\u001b[0mw\u001b[0m\u001b[0;34m]\u001b[0m\u001b[0;34m,\u001b[0m \u001b[0mindex_to_tag\u001b[0m\u001b[0;34m[\u001b[0m\u001b[0mt\u001b[0m\u001b[0;34m]\u001b[0m\u001b[0;34m.\u001b[0m\u001b[0mupper\u001b[0m\u001b[0;34m(\u001b[0m\u001b[0;34m)\u001b[0m\u001b[0;34m,\u001b[0m \u001b[0mindex_to_tag\u001b[0m\u001b[0;34m[\u001b[0m\u001b[0mpred\u001b[0m\u001b[0;34m]\u001b[0m\u001b[0;34m.\u001b[0m\u001b[0mupper\u001b[0m\u001b[0;34m(\u001b[0m\u001b[0;34m)\u001b[0m\u001b[0;34m)\u001b[0m\u001b[0;34m)\u001b[0m\u001b[0;34m\u001b[0m\u001b[0;34m\u001b[0m\u001b[0m\n\u001b[0m\u001b[1;32m     16\u001b[0m \u001b[0;34m\u001b[0m\u001b[0m\n",
            "\u001b[0;31mKeyError\u001b[0m: 0"
          ]
        }
      ]
    },
    {
      "cell_type": "code",
      "metadata": {
        "id": "hBQP0aws83qx"
      },
      "source": [
        "from keras.layers.wrappers import Bidirectional"
      ],
      "execution_count": null,
      "outputs": []
    },
    {
      "cell_type": "code",
      "metadata": {
        "id": "ePjw7bvEHYdv",
        "colab": {
          "base_uri": "https://localhost:8080/",
          "height": 404
        },
        "outputId": "0187171d-4f4d-4a37-ba67-330176ce702a"
      },
      "source": [
        "K.clear_session()\n",
        "model = Sequential()\n",
        "model.add(Embedding(vocab_size, EMBED_SIZE, input_length = max_len))\n",
        "model.add(SpatialDropout1D(0.2))\n",
        "model.add(Bidirectional(LSTM(HIDDEN_SIZE, dropout=0.2, recurrent_dropout=0.2)))\n",
        "model.add(RepeatVector(max_len))\n",
        "model.add(Bidirectional(LSTM(HIDDEN_SIZE, return_sequences=True)))\n",
        "model.add(TimeDistributed(Dense(tag_size)))\n",
        "model.add(Activation(\"softmax\"))\n",
        "model.summary()"
      ],
      "execution_count": null,
      "outputs": [
        {
          "output_type": "stream",
          "text": [
            "Model: \"sequential_1\"\n",
            "_________________________________________________________________\n",
            "Layer (type)                 Output Shape              Param #   \n",
            "=================================================================\n",
            "embedding_1 (Embedding)      (None, 150, 128)          1457664   \n",
            "_________________________________________________________________\n",
            "spatial_dropout1d_1 (Spatial (None, 150, 128)          0         \n",
            "_________________________________________________________________\n",
            "bidirectional_1 (Bidirection (None, 128)               98816     \n",
            "_________________________________________________________________\n",
            "repeat_vector_1 (RepeatVecto (None, 150, 128)          0         \n",
            "_________________________________________________________________\n",
            "bidirectional_2 (Bidirection (None, 150, 128)          98816     \n",
            "_________________________________________________________________\n",
            "time_distributed_1 (TimeDist (None, 150, 47)           6063      \n",
            "_________________________________________________________________\n",
            "activation_1 (Activation)    (None, 150, 47)           0         \n",
            "=================================================================\n",
            "Total params: 1,661,359\n",
            "Trainable params: 1,661,359\n",
            "Non-trainable params: 0\n",
            "_________________________________________________________________\n"
          ],
          "name": "stdout"
        }
      ]
    },
    {
      "cell_type": "code",
      "metadata": {
        "id": "o2IJZ2dMH1A-"
      },
      "source": [
        "model.compile(loss = 'categorical_crossentropy', optimizer = 'adam', metrics = ['accuracy'])"
      ],
      "execution_count": null,
      "outputs": []
    },
    {
      "cell_type": "code",
      "metadata": {
        "id": "eK2etcC1IAmQ",
        "colab": {
          "base_uri": "https://localhost:8080/",
          "height": 246
        },
        "outputId": "86296276-d65a-4a08-d7e6-9f6e62d9f616"
      },
      "source": [
        "history = model.fit(X_train, Y_train, batch_size=128, epochs=6,  validation_data=(X_test, Y_test))"
      ],
      "execution_count": null,
      "outputs": [
        {
          "output_type": "stream",
          "text": [
            "Train on 3131 samples, validate on 783 samples\n",
            "Epoch 1/6\n",
            "3131/3131 [==============================] - 33s 11ms/step - loss: 2.0653 - acc: 0.7919 - val_loss: 1.0128 - val_acc: 0.8294\n",
            "Epoch 2/6\n",
            "3131/3131 [==============================] - 31s 10ms/step - loss: 0.9878 - acc: 0.8286 - val_loss: 0.9604 - val_acc: 0.8294\n",
            "Epoch 3/6\n",
            "3131/3131 [==============================] - 31s 10ms/step - loss: 0.9259 - acc: 0.8286 - val_loss: 0.8491 - val_acc: 0.8294\n",
            "Epoch 4/6\n",
            "3131/3131 [==============================] - 31s 10ms/step - loss: 0.7609 - acc: 0.8286 - val_loss: 0.6574 - val_acc: 0.8294\n",
            "Epoch 5/6\n",
            "3131/3131 [==============================] - 31s 10ms/step - loss: 0.6254 - acc: 0.8349 - val_loss: 0.5799 - val_acc: 0.8437\n",
            "Epoch 6/6\n",
            "3131/3131 [==============================] - 32s 10ms/step - loss: 0.5867 - acc: 0.8441 - val_loss: 0.5601 - val_acc: 0.8467\n"
          ],
          "name": "stdout"
        }
      ]
    },
    {
      "cell_type": "code",
      "metadata": {
        "id": "vxLnbfEbIEaM",
        "colab": {
          "base_uri": "https://localhost:8080/",
          "height": 309
        },
        "outputId": "2887affd-b161-4f65-cd7e-385509aada13"
      },
      "source": [
        "display_history(history)"
      ],
      "execution_count": null,
      "outputs": [
        {
          "output_type": "display_data",
          "data": {
            "image/png": "[encoded data removed]",
            "text/plain": [
              "<Figure size 576x288 with 2 Axes>"
            ]
          },
          "metadata": {
            "tags": []
          }
        }
      ]
    },
    {
      "cell_type": "code",
      "metadata": {
        "id": "mWoZHSSnIGa6",
        "colab": {
          "base_uri": "https://localhost:8080/",
          "height": 591
        },
        "outputId": "ea5def4c-0a4c-4990-8186-46e846fd7df7"
      },
      "source": [
        "index_to_word=src_tokenizer.index_word\n",
        "index_to_tag=tar_tokenizer.index_word\n",
        "\n",
        "i=10 # 확인하고 싶은 테스트용 샘플의 인덱스.\n",
        "y_predicted = model.predict(np.array([X_test[i]])) # 입력한 테스트용 샘플에 대해서 예측 y를 리턴\n",
        "y_predicted = np.argmax(y_predicted, axis=-1) # 원-핫 인코딩을 다시 정수 인코딩으로 변경함.\n",
        "\n",
        "true = np.argmax(Y_test[i], -1) # 원-핫 인코딩을 다시 정수 인코딩으로 변경함.\n",
        "\n",
        "print(\"{:15}|{:5}|{}\".format(\"단어\", \"실제값\", \"예측값\"))\n",
        "print(35 * \"-\")\n",
        "\n",
        "for w, t, pred in zip(X_test[i], true, y_predicted[0]):\n",
        "    if w != 0: # PAD값은 제외함.\n",
        "        print(\"{:17}: {:7} {}\".format(index_to_word[w], index_to_tag[t].upper(), index_to_tag[pred].upper()))\n",
        "       "
      ],
      "execution_count": null,
      "outputs": [
        {
          "output_type": "stream",
          "text": [
            "단어             |실제값  |예측값\n",
            "-----------------------------------\n",
            "in               : IN      NN\n",
            "addition         : NN      NN\n",
            ",                : ,       NN\n",
            "buick            : NNP     NN\n",
            "is               : VBZ     NN\n",
            "a                : DT      NN\n",
            "relatively       : RB      NN\n",
            "respected        : VBN     NN\n",
            "nameplate        : NN      NN\n",
            "among            : IN      NN\n",
            "american         : NNP     NN\n",
            "express          : NNP     NN\n",
            "card             : NN      NN\n",
            "holders          : NNS     NN\n",
            ",                : ,       NN\n",
            "says             : VBZ     NN\n",
            "0                : -NONE-  NN\n",
            "*t*-1            : -NONE-  NN\n",
            "an               : DT      NN\n"
          ],
          "name": "stdout"
        },
        {
          "output_type": "error",
          "ename": "KeyError",
          "evalue": "ignored",
          "traceback": [
            "\u001b[0;31m---------------------------------------------------------------------------\u001b[0m",
            "\u001b[0;31mKeyError\u001b[0m                                  Traceback (most recent call last)",
            "\u001b[0;32m<ipython-input-108-d12422ab768b>\u001b[0m in \u001b[0;36m<module>\u001b[0;34m()\u001b[0m\n\u001b[1;32m     13\u001b[0m \u001b[0;32mfor\u001b[0m \u001b[0mw\u001b[0m\u001b[0;34m,\u001b[0m \u001b[0mt\u001b[0m\u001b[0;34m,\u001b[0m \u001b[0mpred\u001b[0m \u001b[0;32min\u001b[0m \u001b[0mzip\u001b[0m\u001b[0;34m(\u001b[0m\u001b[0mX_test\u001b[0m\u001b[0;34m[\u001b[0m\u001b[0mi\u001b[0m\u001b[0;34m]\u001b[0m\u001b[0;34m,\u001b[0m \u001b[0mtrue\u001b[0m\u001b[0;34m,\u001b[0m \u001b[0my_predicted\u001b[0m\u001b[0;34m[\u001b[0m\u001b[0;36m0\u001b[0m\u001b[0;34m]\u001b[0m\u001b[0;34m)\u001b[0m\u001b[0;34m:\u001b[0m\u001b[0;34m\u001b[0m\u001b[0;34m\u001b[0m\u001b[0m\n\u001b[1;32m     14\u001b[0m     \u001b[0;32mif\u001b[0m \u001b[0mw\u001b[0m \u001b[0;34m!=\u001b[0m \u001b[0;36m0\u001b[0m\u001b[0;34m:\u001b[0m \u001b[0;31m# PAD값은 제외함.\u001b[0m\u001b[0;34m\u001b[0m\u001b[0;34m\u001b[0m\u001b[0m\n\u001b[0;32m---> 15\u001b[0;31m         \u001b[0mprint\u001b[0m\u001b[0;34m(\u001b[0m\u001b[0;34m\"{:17}: {:7} {}\"\u001b[0m\u001b[0;34m.\u001b[0m\u001b[0mformat\u001b[0m\u001b[0;34m(\u001b[0m\u001b[0mindex_to_word\u001b[0m\u001b[0;34m[\u001b[0m\u001b[0mw\u001b[0m\u001b[0;34m]\u001b[0m\u001b[0;34m,\u001b[0m \u001b[0mindex_to_tag\u001b[0m\u001b[0;34m[\u001b[0m\u001b[0mt\u001b[0m\u001b[0;34m]\u001b[0m\u001b[0;34m.\u001b[0m\u001b[0mupper\u001b[0m\u001b[0;34m(\u001b[0m\u001b[0;34m)\u001b[0m\u001b[0;34m,\u001b[0m \u001b[0mindex_to_tag\u001b[0m\u001b[0;34m[\u001b[0m\u001b[0mpred\u001b[0m\u001b[0;34m]\u001b[0m\u001b[0;34m.\u001b[0m\u001b[0mupper\u001b[0m\u001b[0;34m(\u001b[0m\u001b[0;34m)\u001b[0m\u001b[0;34m)\u001b[0m\u001b[0;34m)\u001b[0m\u001b[0;34m\u001b[0m\u001b[0;34m\u001b[0m\u001b[0m\n\u001b[0m\u001b[1;32m     16\u001b[0m \u001b[0;34m\u001b[0m\u001b[0m\n",
            "\u001b[0;31mKeyError\u001b[0m: 0"
          ]
        }
      ]
    },
    {
      "cell_type": "code",
      "metadata": {
        "id": "K6kjBFRRI1fh",
        "colab": {
          "base_uri": "https://localhost:8080/",
          "height": 826
        },
        "outputId": "9950c529-6053-4679-da3e-6bab7a4129d8"
      },
      "source": [
        "index_to_tag"
      ],
      "execution_count": null,
      "outputs": [
        {
          "output_type": "execute_result",
          "data": {
            "text/plain": [
              "{1: 'nn',\n",
              " 2: 'in',\n",
              " 3: 'nnp',\n",
              " 4: 'dt',\n",
              " 5: '-none-',\n",
              " 6: 'nns',\n",
              " 7: 'jj',\n",
              " 8: ',',\n",
              " 9: '.',\n",
              " 10: 'cd',\n",
              " 11: 'vbd',\n",
              " 12: 'rb',\n",
              " 13: 'vb',\n",
              " 14: 'cc',\n",
              " 15: 'to',\n",
              " 16: 'vbn',\n",
              " 17: 'vbz',\n",
              " 18: 'prp',\n",
              " 19: 'vbg',\n",
              " 20: 'vbp',\n",
              " 21: 'md',\n",
              " 22: 'pos',\n",
              " 23: 'prp$',\n",
              " 24: '$',\n",
              " 25: '``',\n",
              " 26: \"''\",\n",
              " 27: ':',\n",
              " 28: 'wdt',\n",
              " 29: 'jjr',\n",
              " 30: 'nnps',\n",
              " 31: 'wp',\n",
              " 32: 'rp',\n",
              " 33: 'jjs',\n",
              " 34: 'wrb',\n",
              " 35: 'rbr',\n",
              " 36: '-rrb-',\n",
              " 37: '-lrb-',\n",
              " 38: 'ex',\n",
              " 39: 'rbs',\n",
              " 40: 'pdt',\n",
              " 41: '#',\n",
              " 42: 'wp$',\n",
              " 43: 'ls',\n",
              " 44: 'fw',\n",
              " 45: 'uh',\n",
              " 46: 'sym'}"
            ]
          },
          "metadata": {
            "tags": []
          },
          "execution_count": 110
        }
      ]
    },
    {
      "cell_type": "code",
      "metadata": {
        "id": "krNFxsLSMrWA"
      },
      "source": [
        ""
      ],
      "execution_count": null,
      "outputs": []
    }
  ]
}